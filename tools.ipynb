{
 "cells": [
  {
   "attachments": {},
   "cell_type": "markdown",
   "metadata": {},
   "source": [
    "## Конвертация YOLO-датасета в COCO фомат"
   ]
  },
  {
   "cell_type": "code",
   "execution_count": 2,
   "metadata": {},
   "outputs": [],
   "source": [
    "from globox import AnnotationSet, Annotation, BoundingBox\n",
    "from pathlib import Path, PosixPath\n",
    "import numpy as np\n",
    "from tqdm import tqdm"
   ]
  },
  {
   "cell_type": "code",
   "execution_count": 3,
   "metadata": {},
   "outputs": [],
   "source": [
    "labels_path = Path(\"/mnt/work_share/DWH/DataSets/Detection/11/0/yolo/labels/test/\")\n",
    "images_path = Path(\"/mnt/work_share/DWH/DataSets/Detection/11/0/yolo/images/test/\")\n",
    "labels = Path(\"/mnt/work_share/DWH/DataSets/Detection/11/0/obj.names\").read_text().splitlines()"
   ]
  },
  {
   "cell_type": "code",
   "execution_count": null,
   "metadata": {},
   "outputs": [],
   "source": [
    "def find_open_img(imgs_path:PosixPath, name):\n",
    "    from PIL import Image\n",
    "    impath = imgs_path / name\n",
    "    for ext in [\".jpg\", \".JPG\", \".jpeg\", \".JPEG\", \".png\", \".PNG\"]:\n",
    "        impath_ = impath.with_suffix(ext)\n",
    "        if impath_.exists():\n",
    "            try:\n",
    "                return Image.open(impath_), impath_\n",
    "            except:\n",
    "                print(\"error open\", impath_)\n",
    "                pass\n",
    "    return None, impath\n",
    "\n",
    "annset = AnnotationSet()\n",
    "lab_names = sorted([p for p in labels_path.glob(\"*.txt\")])\n",
    "for i, lab_path in enumerate(tqdm(lab_names)):\n",
    "    img, img_path = find_open_img(images_path, lab_path.stem)\n",
    "    if img is None:\n",
    "        print(\"missing\", img_path)\n",
    "    else:\n",
    "        w, h = img.size\n",
    "        ann = Annotation(img_path.name, (w, h))\n",
    "        ann_txt = Path(lab_path).read_text()\n",
    "        for line in ann_txt.splitlines():\n",
    "            cls_id, *bbox_str = line.split()\n",
    "            x0, y0, bw, bh = map(float, bbox_str)\n",
    "            bbox = BoundingBox(label=labels[int(cls_id)], \n",
    "                            xmin=w*(x0 - bw/2),\n",
    "                            ymin=h*(y0 - bh/2),\n",
    "                            xmax=w*(x0 + bw/2),\n",
    "                            ymax=h*(y0 + bh/2),\n",
    "                            confidence=1)\n",
    "            print(bbox.is_ground_truth)\n",
    "            ann.add(bbox)\n",
    "    annset.add(ann, override=True)"
   ]
  },
  {
   "cell_type": "code",
   "execution_count": 7,
   "metadata": {},
   "outputs": [
    {
     "data": {
      "text/html": [
       "<pre style=\"white-space:pre;overflow-x:auto;line-height:normal;font-family:Menlo,'DejaVu Sans Mono',consolas,'Courier New',monospace\"><span style=\"font-style: italic\">            Database Stats             </span>\n",
       "┏━━━━━━━━━━━━━━━━━━━━┳━━━━━━━━┳━━━━━━━┓\n",
       "┃<span style=\"font-weight: bold\"> Label              </span>┃<span style=\"font-weight: bold\"> Images </span>┃<span style=\"font-weight: bold\"> Boxes </span>┃\n",
       "┡━━━━━━━━━━━━━━━━━━━━╇━━━━━━━━╇━━━━━━━┩\n",
       "│ &lt;empty_image&gt;      │     58 │     0 │\n",
       "│ bicycle            │    328 │   979 │\n",
       "│ car                │   1144 │  4163 │\n",
       "│ dead_stop          │    119 │   123 │\n",
       "│ derail             │    134 │   205 │\n",
       "│ hand_shifter_left  │    307 │   465 │\n",
       "│ hand_shifter_right │    284 │   450 │\n",
       "│ letter             │   1401 │  1947 │\n",
       "│ maneuver           │     34 │    35 │\n",
       "│ milestone          │    396 │   397 │\n",
       "│ motorcycle         │    190 │   398 │\n",
       "│ person             │   1296 │  5675 │\n",
       "│ pillar             │   3263 │  6109 │\n",
       "│ sign               │     54 │    63 │\n",
       "│ sound_signal       │    241 │   318 │\n",
       "│ tflight            │   2502 │  6651 │\n",
       "│ train              │   2471 │  5300 │\n",
       "│ worker             │    505 │   749 │\n",
       "├────────────────────┼────────┼───────┤\n",
       "│<span style=\"font-weight: bold\"> Total              </span>│<span style=\"font-weight: bold\">   7186 </span>│<span style=\"font-weight: bold\"> 34027 </span>│\n",
       "└────────────────────┴────────┴───────┘\n",
       "</pre>\n"
      ],
      "text/plain": [
       "\u001b[3m            Database Stats             \u001b[0m\n",
       "┏━━━━━━━━━━━━━━━━━━━━┳━━━━━━━━┳━━━━━━━┓\n",
       "┃\u001b[1m \u001b[0m\u001b[1mLabel             \u001b[0m\u001b[1m \u001b[0m┃\u001b[1m \u001b[0m\u001b[1mImages\u001b[0m\u001b[1m \u001b[0m┃\u001b[1m \u001b[0m\u001b[1mBoxes\u001b[0m\u001b[1m \u001b[0m┃\n",
       "┡━━━━━━━━━━━━━━━━━━━━╇━━━━━━━━╇━━━━━━━┩\n",
       "│ <empty_image>      │     58 │     0 │\n",
       "│ bicycle            │    328 │   979 │\n",
       "│ car                │   1144 │  4163 │\n",
       "│ dead_stop          │    119 │   123 │\n",
       "│ derail             │    134 │   205 │\n",
       "│ hand_shifter_left  │    307 │   465 │\n",
       "│ hand_shifter_right │    284 │   450 │\n",
       "│ letter             │   1401 │  1947 │\n",
       "│ maneuver           │     34 │    35 │\n",
       "│ milestone          │    396 │   397 │\n",
       "│ motorcycle         │    190 │   398 │\n",
       "│ person             │   1296 │  5675 │\n",
       "│ pillar             │   3263 │  6109 │\n",
       "│ sign               │     54 │    63 │\n",
       "│ sound_signal       │    241 │   318 │\n",
       "│ tflight            │   2502 │  6651 │\n",
       "│ train              │   2471 │  5300 │\n",
       "│ worker             │    505 │   749 │\n",
       "├────────────────────┼────────┼───────┤\n",
       "│\u001b[1m \u001b[0m\u001b[1mTotal             \u001b[0m\u001b[1m \u001b[0m│\u001b[1m \u001b[0m\u001b[1m  7186\u001b[0m\u001b[1m \u001b[0m│\u001b[1m \u001b[0m\u001b[1m34027\u001b[0m\u001b[1m \u001b[0m│\n",
       "└────────────────────┴────────┴───────┘\n"
      ]
     },
     "metadata": {},
     "output_type": "display_data"
    },
    {
     "name": "stdout",
     "output_type": "stream",
     "text": [
      "None\n"
     ]
    }
   ],
   "source": [
    "print(annset.show_stats())"
   ]
  },
  {
   "cell_type": "code",
   "execution_count": 8,
   "metadata": {},
   "outputs": [],
   "source": [
    "annset._id_to_imageid = {i:img for i, img in enumerate(annset.image_ids)}\n",
    "annset._id_to_label = {i:lab for i, lab in enumerate(labels)}\n",
    "annset.save_coco(\"annotation.json\")"
   ]
  },
  {
   "cell_type": "markdown",
   "metadata": {},
   "source": [
    "## Пример сохранения детекций модели в json"
   ]
  },
  {
   "cell_type": "code",
   "execution_count": null,
   "metadata": {},
   "outputs": [],
   "source": [
    "from globox import AnnotationSet, Annotation, BoundingBox\n",
    "\n",
    "images_path = \"Path/To/Dir/With/Images\" #  TODO\n",
    "class_names = [\"label1\", \"label2\", \"labelN\"] #  TODO\n",
    "annset = AnnotationSet()\n",
    "for img_path in Path(images_path).glob(\"*.jpg\"):\n",
    "    detections= get_model_predictions(img_path) #  TODO\n",
    "    w, h = get_image_size(img_path) #  TODO\n",
    "    ann = Annotation(img_path.name, (w, h))\n",
    "    for bbox, class_id, conf in detections:\n",
    "        bbox = BoundingBox(label=class_names[class_id], \n",
    "                           xmin=bbox[0],\n",
    "                           ymin=bbox[1],\n",
    "                           xmax=bbox[2],\n",
    "                           ymax=bbox[3],\n",
    "                           confidence=conf)\n",
    "        ann.add(bbox)\n",
    "    annset.add(ann)\n",
    "\n",
    "annset._id_to_label = {i:lab for i, lab in enumerate(class_names)}\n",
    "annset.save_coco(\"annotation.json\")"
   ]
  },
  {
   "attachments": {},
   "cell_type": "markdown",
   "metadata": {},
   "source": [
    "## Простое вычисление COCO-метрик с помощью globox"
   ]
  },
  {
   "cell_type": "code",
   "execution_count": 8,
   "metadata": {},
   "outputs": [
    {
     "data": {
      "text/html": [
       "<pre style=\"white-space:pre;overflow-x:auto;line-height:normal;font-family:Menlo,'DejaVu Sans Mono',consolas,'Courier New',monospace\"><span style=\"font-style: italic\">                                                  COCO Evaluation                                                  </span>\n",
       "┏━━━━━━━━┳━━━━━━━━┳━━━━━━━━┳━━━━━━━━┳━━━━━━━━┳━━━━━━━━┳━━━━━━━━┳━━━━━━━━┳━━━━━━━┳━━━━━━━━┳━━━━━━━┳━━━━━━━━┳━━━━━━━┓\n",
       "┃<span style=\"font-weight: bold\">        </span>┃<span style=\"color: #800000; text-decoration-color: #800000; font-weight: bold\">     AP </span>┃<span style=\"color: #800000; text-decoration-color: #800000; font-weight: bold\">        </span>┃<span style=\"color: #800000; text-decoration-color: #800000; font-weight: bold\">        </span>┃<span style=\"color: #800080; text-decoration-color: #800080; font-weight: bold\">        </span>┃<span style=\"color: #800080; text-decoration-color: #800080; font-weight: bold\">        </span>┃<span style=\"color: #800080; text-decoration-color: #800080; font-weight: bold\">        </span>┃<span style=\"color: #000080; text-decoration-color: #000080; font-weight: bold\">        </span>┃<span style=\"color: #000080; text-decoration-color: #000080; font-weight: bold\">       </span>┃<span style=\"color: #000080; text-decoration-color: #000080; font-weight: bold\">        </span>┃<span style=\"color: #008000; text-decoration-color: #008000; font-weight: bold\">       </span>┃<span style=\"color: #008000; text-decoration-color: #008000; font-weight: bold\">        </span>┃<span style=\"color: #008000; text-decoration-color: #008000; font-weight: bold\">       </span>┃\n",
       "┃<span style=\"font-weight: bold\"> Label  </span>┃<span style=\"color: #800000; text-decoration-color: #800000; font-weight: bold\">  50:95 </span>┃<span style=\"color: #800000; text-decoration-color: #800000; font-weight: bold\">  AP 50 </span>┃<span style=\"color: #800000; text-decoration-color: #800000; font-weight: bold\">  AP 75 </span>┃<span style=\"color: #800080; text-decoration-color: #800080; font-weight: bold\">   AP S </span>┃<span style=\"color: #800080; text-decoration-color: #800080; font-weight: bold\">   AP M </span>┃<span style=\"color: #800080; text-decoration-color: #800080; font-weight: bold\">   AP L </span>┃<span style=\"color: #000080; text-decoration-color: #000080; font-weight: bold\">   AR 1 </span>┃<span style=\"color: #000080; text-decoration-color: #000080; font-weight: bold\"> AR 10 </span>┃<span style=\"color: #000080; text-decoration-color: #000080; font-weight: bold\"> AR 100 </span>┃<span style=\"color: #008000; text-decoration-color: #008000; font-weight: bold\">  AR S </span>┃<span style=\"color: #008000; text-decoration-color: #008000; font-weight: bold\">   AR M </span>┃<span style=\"color: #008000; text-decoration-color: #008000; font-weight: bold\">  AR L </span>┃\n",
       "┡━━━━━━━━╇━━━━━━━━╇━━━━━━━━╇━━━━━━━━╇━━━━━━━━╇━━━━━━━━╇━━━━━━━━╇━━━━━━━━╇━━━━━━━╇━━━━━━━━╇━━━━━━━╇━━━━━━━━╇━━━━━━━┩\n",
       "│ bicyc… │<span style=\"color: #800000; text-decoration-color: #800000\"> 47.03% </span>│<span style=\"color: #800000; text-decoration-color: #800000\"> 75.87% </span>│<span style=\"color: #800000; text-decoration-color: #800000\"> 49.77% </span>│<span style=\"color: #800080; text-decoration-color: #800080\"> 24.59% </span>│<span style=\"color: #800080; text-decoration-color: #800080\"> 40.37% </span>│<span style=\"color: #800080; text-decoration-color: #800080\"> 57.14% </span>│<span style=\"color: #000080; text-decoration-color: #000080\"> 20.46% </span>│<span style=\"color: #000080; text-decoration-color: #000080\"> 44.3… </span>│<span style=\"color: #000080; text-decoration-color: #000080\"> 47.03% </span>│<span style=\"color: #008000; text-decoration-color: #008000\"> 35.3… </span>│<span style=\"color: #008000; text-decoration-color: #008000\"> 49.66% </span>│<span style=\"color: #008000; text-decoration-color: #008000\"> 65.3… </span>│\n",
       "│<span style=\"color: #7f7f7f; text-decoration-color: #7f7f7f\"> car    </span>│<span style=\"color: #bf7f7f; text-decoration-color: #bf7f7f\"> 68.18% </span>│<span style=\"color: #bf7f7f; text-decoration-color: #bf7f7f\"> 90.73% </span>│<span style=\"color: #bf7f7f; text-decoration-color: #bf7f7f\"> 76.92% </span>│<span style=\"color: #bf7fbf; text-decoration-color: #bf7fbf\"> 51.86% </span>│<span style=\"color: #bf7fbf; text-decoration-color: #bf7fbf\"> 64.95% </span>│<span style=\"color: #bf7fbf; text-decoration-color: #bf7fbf\"> 76.37% </span>│<span style=\"color: #7f7fbf; text-decoration-color: #7f7fbf\"> 21.20% </span>│<span style=\"color: #7f7fbf; text-decoration-color: #7f7fbf\"> 65.5… </span>│<span style=\"color: #7f7fbf; text-decoration-color: #7f7fbf\"> 68.18% </span>│<span style=\"color: #7fbf7f; text-decoration-color: #7fbf7f\"> 64.9… </span>│<span style=\"color: #7fbf7f; text-decoration-color: #7fbf7f\"> 71.97% </span>│<span style=\"color: #7fbf7f; text-decoration-color: #7fbf7f\"> 80.8… </span>│\n",
       "│ dead_… │<span style=\"color: #800000; text-decoration-color: #800000\"> 59.79% </span>│<span style=\"color: #800000; text-decoration-color: #800000\"> 92.11% </span>│<span style=\"color: #800000; text-decoration-color: #800000\"> 70.61% </span>│<span style=\"color: #800080; text-decoration-color: #800080\"> 56.16% </span>│<span style=\"color: #800080; text-decoration-color: #800080\"> 80.11% </span>│<span style=\"color: #800080; text-decoration-color: #800080\">   nan% </span>│<span style=\"color: #000080; text-decoration-color: #000080\"> 58.01% </span>│<span style=\"color: #000080; text-decoration-color: #000080\"> 59.7… </span>│<span style=\"color: #000080; text-decoration-color: #000080\"> 59.79% </span>│<span style=\"color: #008000; text-decoration-color: #008000\"> 63.5… </span>│<span style=\"color: #008000; text-decoration-color: #008000\"> 82.67% </span>│<span style=\"color: #008000; text-decoration-color: #008000\">  nan% </span>│\n",
       "│<span style=\"color: #7f7f7f; text-decoration-color: #7f7f7f\"> derail </span>│<span style=\"color: #bf7f7f; text-decoration-color: #bf7f7f\"> 71.55% </span>│<span style=\"color: #bf7f7f; text-decoration-color: #bf7f7f\"> 93.01% </span>│<span style=\"color: #bf7f7f; text-decoration-color: #bf7f7f\"> 73.63% </span>│<span style=\"color: #bf7fbf; text-decoration-color: #bf7fbf\"> 40.63% </span>│<span style=\"color: #bf7fbf; text-decoration-color: #bf7fbf\"> 76.59% </span>│<span style=\"color: #bf7fbf; text-decoration-color: #bf7fbf\"> 92.18% </span>│<span style=\"color: #7f7fbf; text-decoration-color: #7f7fbf\"> 54.17% </span>│<span style=\"color: #7f7fbf; text-decoration-color: #7f7fbf\"> 71.5… </span>│<span style=\"color: #7f7fbf; text-decoration-color: #7f7fbf\"> 71.55% </span>│<span style=\"color: #7fbf7f; text-decoration-color: #7fbf7f\"> 45.7… </span>│<span style=\"color: #7fbf7f; text-decoration-color: #7fbf7f\"> 82.75% </span>│<span style=\"color: #7fbf7f; text-decoration-color: #7fbf7f\"> 93.9… </span>│\n",
       "│ hand_… │<span style=\"color: #800000; text-decoration-color: #800000\"> 74.94% </span>│<span style=\"color: #800000; text-decoration-color: #800000\"> 96.84% </span>│<span style=\"color: #800000; text-decoration-color: #800000\"> 86.28% </span>│<span style=\"color: #800080; text-decoration-color: #800080\"> 46.34% </span>│<span style=\"color: #800080; text-decoration-color: #800080\"> 72.68% </span>│<span style=\"color: #800080; text-decoration-color: #800080\"> 83.66% </span>│<span style=\"color: #000080; text-decoration-color: #000080\"> 51.87% </span>│<span style=\"color: #000080; text-decoration-color: #000080\"> 74.9… </span>│<span style=\"color: #000080; text-decoration-color: #000080\"> 74.94% </span>│<span style=\"color: #008000; text-decoration-color: #008000\"> 61.6… </span>│<span style=\"color: #008000; text-decoration-color: #008000\"> 76.33% </span>│<span style=\"color: #008000; text-decoration-color: #008000\"> 86.4… </span>│\n",
       "│<span style=\"color: #7f7f7f; text-decoration-color: #7f7f7f\"> hand_… </span>│<span style=\"color: #bf7f7f; text-decoration-color: #bf7f7f\"> 75.87% </span>│<span style=\"color: #bf7f7f; text-decoration-color: #bf7f7f\"> 96.79% </span>│<span style=\"color: #bf7f7f; text-decoration-color: #bf7f7f\"> 89.99% </span>│<span style=\"color: #bf7fbf; text-decoration-color: #bf7fbf\"> 40.80% </span>│<span style=\"color: #bf7fbf; text-decoration-color: #bf7fbf\"> 69.88% </span>│<span style=\"color: #bf7fbf; text-decoration-color: #bf7fbf\"> 83.00% </span>│<span style=\"color: #7f7fbf; text-decoration-color: #7f7fbf\"> 50.46% </span>│<span style=\"color: #7f7fbf; text-decoration-color: #7f7fbf\"> 75.8… </span>│<span style=\"color: #7f7fbf; text-decoration-color: #7f7fbf\"> 75.87% </span>│<span style=\"color: #7fbf7f; text-decoration-color: #7fbf7f\"> 69.3… </span>│<span style=\"color: #7fbf7f; text-decoration-color: #7fbf7f\"> 76.11% </span>│<span style=\"color: #7fbf7f; text-decoration-color: #7fbf7f\"> 86.7… </span>│\n",
       "│ letter │<span style=\"color: #800000; text-decoration-color: #800000\"> 54.52% </span>│<span style=\"color: #800000; text-decoration-color: #800000\"> 87.54% </span>│<span style=\"color: #800000; text-decoration-color: #800000\"> 58.85% </span>│<span style=\"color: #800080; text-decoration-color: #800080\"> 45.16% </span>│<span style=\"color: #800080; text-decoration-color: #800080\"> 71.57% </span>│<span style=\"color: #800080; text-decoration-color: #800080\"> 80.74% </span>│<span style=\"color: #000080; text-decoration-color: #000080\"> 41.82% </span>│<span style=\"color: #000080; text-decoration-color: #000080\"> 54.5… </span>│<span style=\"color: #000080; text-decoration-color: #000080\"> 54.52% </span>│<span style=\"color: #008000; text-decoration-color: #008000\"> 52.9… </span>│<span style=\"color: #008000; text-decoration-color: #008000\"> 75.62% </span>│<span style=\"color: #008000; text-decoration-color: #008000\"> 83.7… </span>│\n",
       "│<span style=\"color: #7f7f7f; text-decoration-color: #7f7f7f\"> maneu… </span>│<span style=\"color: #bf7f7f; text-decoration-color: #bf7f7f\"> 67.61% </span>│<span style=\"color: #bf7f7f; text-decoration-color: #bf7f7f\"> 93.79% </span>│<span style=\"color: #bf7f7f; text-decoration-color: #bf7f7f\"> 70.98% </span>│<span style=\"color: #bf7fbf; text-decoration-color: #bf7fbf\"> 59.29% </span>│<span style=\"color: #bf7fbf; text-decoration-color: #bf7fbf\"> 77.34% </span>│<span style=\"color: #bf7fbf; text-decoration-color: #bf7fbf\"> 100.0… </span>│<span style=\"color: #7f7fbf; text-decoration-color: #7f7fbf\"> 64.98% </span>│<span style=\"color: #7f7fbf; text-decoration-color: #7f7fbf\"> 67.6… </span>│<span style=\"color: #7f7fbf; text-decoration-color: #7f7fbf\"> 67.61% </span>│<span style=\"color: #7fbf7f; text-decoration-color: #7fbf7f\"> 64.2… </span>│<span style=\"color: #7fbf7f; text-decoration-color: #7fbf7f\"> 82.00% </span>│<span style=\"color: #7fbf7f; text-decoration-color: #7fbf7f\"> 100.… </span>│\n",
       "│ miles… │<span style=\"color: #800000; text-decoration-color: #800000\"> 70.05% </span>│<span style=\"color: #800000; text-decoration-color: #800000\"> 93.53% </span>│<span style=\"color: #800000; text-decoration-color: #800000\"> 83.29% </span>│<span style=\"color: #800080; text-decoration-color: #800080\"> 47.59% </span>│<span style=\"color: #800080; text-decoration-color: #800080\"> 73.16% </span>│<span style=\"color: #800080; text-decoration-color: #800080\"> 75.09% </span>│<span style=\"color: #000080; text-decoration-color: #000080\"> 69.77% </span>│<span style=\"color: #000080; text-decoration-color: #000080\"> 70.0… </span>│<span style=\"color: #000080; text-decoration-color: #000080\"> 70.05% </span>│<span style=\"color: #008000; text-decoration-color: #008000\"> 57.8… </span>│<span style=\"color: #008000; text-decoration-color: #008000\"> 77.91% </span>│<span style=\"color: #008000; text-decoration-color: #008000\"> 79.0… </span>│\n",
       "│<span style=\"color: #7f7f7f; text-decoration-color: #7f7f7f\"> motor… </span>│<span style=\"color: #bf7f7f; text-decoration-color: #bf7f7f\"> 46.29% </span>│<span style=\"color: #bf7f7f; text-decoration-color: #bf7f7f\"> 77.86% </span>│<span style=\"color: #bf7f7f; text-decoration-color: #bf7f7f\"> 49.16% </span>│<span style=\"color: #bf7fbf; text-decoration-color: #bf7fbf\"> 21.57% </span>│<span style=\"color: #bf7fbf; text-decoration-color: #bf7fbf\"> 33.47% </span>│<span style=\"color: #bf7fbf; text-decoration-color: #bf7fbf\"> 54.68% </span>│<span style=\"color: #7f7fbf; text-decoration-color: #7f7fbf\"> 25.12% </span>│<span style=\"color: #7f7fbf; text-decoration-color: #7f7fbf\"> 44.9… </span>│<span style=\"color: #7f7fbf; text-decoration-color: #7f7fbf\"> 46.29% </span>│<span style=\"color: #7fbf7f; text-decoration-color: #7fbf7f\"> 30.7… </span>│<span style=\"color: #7fbf7f; text-decoration-color: #7fbf7f\"> 41.95% </span>│<span style=\"color: #7fbf7f; text-decoration-color: #7fbf7f\"> 66.0… </span>│\n",
       "│ person │<span style=\"color: #800000; text-decoration-color: #800000\"> 56.16% </span>│<span style=\"color: #800000; text-decoration-color: #800000\"> 86.24% </span>│<span style=\"color: #800000; text-decoration-color: #800000\"> 61.26% </span>│<span style=\"color: #800080; text-decoration-color: #800080\"> 35.75% </span>│<span style=\"color: #800080; text-decoration-color: #800080\"> 52.65% </span>│<span style=\"color: #800080; text-decoration-color: #800080\"> 69.15% </span>│<span style=\"color: #000080; text-decoration-color: #000080\"> 16.51% </span>│<span style=\"color: #000080; text-decoration-color: #000080\"> 47.1… </span>│<span style=\"color: #000080; text-decoration-color: #000080\"> 56.16% </span>│<span style=\"color: #008000; text-decoration-color: #008000\"> 50.5… </span>│<span style=\"color: #008000; text-decoration-color: #008000\"> 61.70% </span>│<span style=\"color: #008000; text-decoration-color: #008000\"> 75.4… </span>│\n",
       "│<span style=\"color: #7f7f7f; text-decoration-color: #7f7f7f\"> pillar </span>│<span style=\"color: #bf7f7f; text-decoration-color: #bf7f7f\"> 55.26% </span>│<span style=\"color: #bf7f7f; text-decoration-color: #bf7f7f\"> 91.39% </span>│<span style=\"color: #bf7f7f; text-decoration-color: #bf7f7f\"> 60.03% </span>│<span style=\"color: #bf7fbf; text-decoration-color: #bf7fbf\"> 49.34% </span>│<span style=\"color: #bf7fbf; text-decoration-color: #bf7fbf\"> 71.09% </span>│<span style=\"color: #bf7fbf; text-decoration-color: #bf7fbf\"> 77.81% </span>│<span style=\"color: #7f7fbf; text-decoration-color: #7f7fbf\"> 34.46% </span>│<span style=\"color: #7f7fbf; text-decoration-color: #7f7fbf\"> 55.1… </span>│<span style=\"color: #7f7fbf; text-decoration-color: #7f7fbf\"> 55.26% </span>│<span style=\"color: #7fbf7f; text-decoration-color: #7fbf7f\"> 56.3… </span>│<span style=\"color: #7fbf7f; text-decoration-color: #7fbf7f\"> 76.52% </span>│<span style=\"color: #7fbf7f; text-decoration-color: #7fbf7f\"> 81.8… </span>│\n",
       "│ sign   │<span style=\"color: #800000; text-decoration-color: #800000\"> 53.15% </span>│<span style=\"color: #800000; text-decoration-color: #800000\"> 79.78% </span>│<span style=\"color: #800000; text-decoration-color: #800000\"> 58.27% </span>│<span style=\"color: #800080; text-decoration-color: #800080\"> 44.28% </span>│<span style=\"color: #800080; text-decoration-color: #800080\"> 71.96% </span>│<span style=\"color: #800080; text-decoration-color: #800080\"> 40.40% </span>│<span style=\"color: #000080; text-decoration-color: #000080\"> 50.18% </span>│<span style=\"color: #000080; text-decoration-color: #000080\"> 53.1… </span>│<span style=\"color: #000080; text-decoration-color: #000080\"> 53.15% </span>│<span style=\"color: #008000; text-decoration-color: #008000\"> 52.7… </span>│<span style=\"color: #008000; text-decoration-color: #008000\"> 75.00% </span>│<span style=\"color: #008000; text-decoration-color: #008000\"> 40.0… </span>│\n",
       "│<span style=\"color: #7f7f7f; text-decoration-color: #7f7f7f\"> sound… </span>│<span style=\"color: #bf7f7f; text-decoration-color: #bf7f7f\"> 76.95% </span>│<span style=\"color: #bf7f7f; text-decoration-color: #bf7f7f\"> 95.39% </span>│<span style=\"color: #bf7f7f; text-decoration-color: #bf7f7f\"> 92.21% </span>│<span style=\"color: #bf7fbf; text-decoration-color: #bf7fbf\"> 69.71% </span>│<span style=\"color: #bf7fbf; text-decoration-color: #bf7fbf\"> 81.30% </span>│<span style=\"color: #bf7fbf; text-decoration-color: #bf7fbf\"> 93.17% </span>│<span style=\"color: #7f7fbf; text-decoration-color: #7f7fbf\"> 59.94% </span>│<span style=\"color: #7f7fbf; text-decoration-color: #7f7fbf\"> 76.9… </span>│<span style=\"color: #7f7fbf; text-decoration-color: #7f7fbf\"> 76.95% </span>│<span style=\"color: #7fbf7f; text-decoration-color: #7fbf7f\"> 75.0… </span>│<span style=\"color: #7fbf7f; text-decoration-color: #7fbf7f\"> 84.63% </span>│<span style=\"color: #7fbf7f; text-decoration-color: #7fbf7f\"> 94.5… </span>│\n",
       "│ tflig… │<span style=\"color: #800000; text-decoration-color: #800000\"> 57.07% </span>│<span style=\"color: #800000; text-decoration-color: #800000\"> 89.22% </span>│<span style=\"color: #800000; text-decoration-color: #800000\"> 61.57% </span>│<span style=\"color: #800080; text-decoration-color: #800080\"> 46.46% </span>│<span style=\"color: #800080; text-decoration-color: #800080\"> 71.30% </span>│<span style=\"color: #800080; text-decoration-color: #800080\"> 79.14% </span>│<span style=\"color: #000080; text-decoration-color: #000080\"> 24.72% </span>│<span style=\"color: #000080; text-decoration-color: #000080\"> 56.2… </span>│<span style=\"color: #000080; text-decoration-color: #000080\"> 57.07% </span>│<span style=\"color: #008000; text-decoration-color: #008000\"> 54.6… </span>│<span style=\"color: #008000; text-decoration-color: #008000\"> 75.96% </span>│<span style=\"color: #008000; text-decoration-color: #008000\"> 82.9… </span>│\n",
       "│<span style=\"color: #7f7f7f; text-decoration-color: #7f7f7f\"> train  </span>│<span style=\"color: #bf7f7f; text-decoration-color: #bf7f7f\"> 54.72% </span>│<span style=\"color: #bf7f7f; text-decoration-color: #bf7f7f\"> 82.58% </span>│<span style=\"color: #bf7f7f; text-decoration-color: #bf7f7f\"> 58.00% </span>│<span style=\"color: #bf7fbf; text-decoration-color: #bf7fbf\"> 44.52% </span>│<span style=\"color: #bf7fbf; text-decoration-color: #bf7fbf\"> 50.44% </span>│<span style=\"color: #bf7fbf; text-decoration-color: #bf7fbf\"> 56.55% </span>│<span style=\"color: #7f7fbf; text-decoration-color: #7f7fbf\"> 27.85% </span>│<span style=\"color: #7f7fbf; text-decoration-color: #7f7fbf\"> 54.4… </span>│<span style=\"color: #7f7fbf; text-decoration-color: #7f7fbf\"> 54.72% </span>│<span style=\"color: #7fbf7f; text-decoration-color: #7fbf7f\"> 62.7… </span>│<span style=\"color: #7fbf7f; text-decoration-color: #7fbf7f\"> 64.69% </span>│<span style=\"color: #7fbf7f; text-decoration-color: #7fbf7f\"> 71.4… </span>│\n",
       "│ worker │<span style=\"color: #800000; text-decoration-color: #800000\"> 69.42% </span>│<span style=\"color: #800000; text-decoration-color: #800000\"> 92.14% </span>│<span style=\"color: #800000; text-decoration-color: #800000\"> 78.40% </span>│<span style=\"color: #800080; text-decoration-color: #800080\"> 47.30% </span>│<span style=\"color: #800080; text-decoration-color: #800080\"> 65.20% </span>│<span style=\"color: #800080; text-decoration-color: #800080\"> 77.74% </span>│<span style=\"color: #000080; text-decoration-color: #000080\"> 49.38% </span>│<span style=\"color: #000080; text-decoration-color: #000080\"> 69.1… </span>│<span style=\"color: #000080; text-decoration-color: #000080\"> 69.42% </span>│<span style=\"color: #008000; text-decoration-color: #008000\"> 59.8… </span>│<span style=\"color: #008000; text-decoration-color: #008000\"> 71.65% </span>│<span style=\"color: #008000; text-decoration-color: #008000\"> 81.8… </span>│\n",
       "├────────┼────────┼────────┼────────┼────────┼────────┼────────┼────────┼───────┼────────┼───────┼────────┼───────┤\n",
       "│<span style=\"font-weight: bold\"> Total  </span>│<span style=\"color: #800000; text-decoration-color: #800000; font-weight: bold\"> 62.27% </span>│<span style=\"color: #800000; text-decoration-color: #800000; font-weight: bold\"> 89.11% </span>│<span style=\"color: #800000; text-decoration-color: #800000; font-weight: bold\"> 69.37% </span>│<span style=\"color: #800080; text-decoration-color: #800080; font-weight: bold\"> 45.37% </span>│<span style=\"color: #800080; text-decoration-color: #800080; font-weight: bold\"> 66.12% </span>│<span style=\"color: #800080; text-decoration-color: #800080; font-weight: bold\"> 74.80% </span>│<span style=\"color: #000080; text-decoration-color: #000080; font-weight: bold\"> 45.13% </span>│<span style=\"color: #000080; text-decoration-color: #000080; font-weight: bold\"> 66.9… </span>│<span style=\"color: #000080; text-decoration-color: #000080; font-weight: bold\"> 68.48% </span>│<span style=\"color: #008000; text-decoration-color: #008000; font-weight: bold\"> 56.3… </span>│<span style=\"color: #008000; text-decoration-color: #008000; font-weight: bold\"> 72.18% </span>│<span style=\"color: #008000; text-decoration-color: #008000; font-weight: bold\"> 79.3… </span>│\n",
       "└────────┴────────┴────────┴────────┴────────┴────────┴────────┴────────┴───────┴────────┴───────┴────────┴───────┘\n",
       "</pre>\n"
      ],
      "text/plain": [
       "\u001b[3m                                                  COCO Evaluation                                                  \u001b[0m\n",
       "┏━━━━━━━━┳━━━━━━━━┳━━━━━━━━┳━━━━━━━━┳━━━━━━━━┳━━━━━━━━┳━━━━━━━━┳━━━━━━━━┳━━━━━━━┳━━━━━━━━┳━━━━━━━┳━━━━━━━━┳━━━━━━━┓\n",
       "┃\u001b[1m        \u001b[0m┃\u001b[1;31m \u001b[0m\u001b[1;31m    AP\u001b[0m\u001b[1;31m \u001b[0m┃\u001b[1;31m        \u001b[0m┃\u001b[1;31m        \u001b[0m┃\u001b[1;35m        \u001b[0m┃\u001b[1;35m        \u001b[0m┃\u001b[1;35m        \u001b[0m┃\u001b[1;34m        \u001b[0m┃\u001b[1;34m       \u001b[0m┃\u001b[1;34m        \u001b[0m┃\u001b[1;32m       \u001b[0m┃\u001b[1;32m        \u001b[0m┃\u001b[1;32m       \u001b[0m┃\n",
       "┃\u001b[1m \u001b[0m\u001b[1mLabel \u001b[0m\u001b[1m \u001b[0m┃\u001b[1;31m \u001b[0m\u001b[1;31m 50:95\u001b[0m\u001b[1;31m \u001b[0m┃\u001b[1;31m \u001b[0m\u001b[1;31m AP 50\u001b[0m\u001b[1;31m \u001b[0m┃\u001b[1;31m \u001b[0m\u001b[1;31m AP 75\u001b[0m\u001b[1;31m \u001b[0m┃\u001b[1;35m \u001b[0m\u001b[1;35m  AP S\u001b[0m\u001b[1;35m \u001b[0m┃\u001b[1;35m \u001b[0m\u001b[1;35m  AP M\u001b[0m\u001b[1;35m \u001b[0m┃\u001b[1;35m \u001b[0m\u001b[1;35m  AP L\u001b[0m\u001b[1;35m \u001b[0m┃\u001b[1;34m \u001b[0m\u001b[1;34m  AR 1\u001b[0m\u001b[1;34m \u001b[0m┃\u001b[1;34m \u001b[0m\u001b[1;34mAR 10\u001b[0m\u001b[1;34m \u001b[0m┃\u001b[1;34m \u001b[0m\u001b[1;34mAR 100\u001b[0m\u001b[1;34m \u001b[0m┃\u001b[1;32m \u001b[0m\u001b[1;32m AR S\u001b[0m\u001b[1;32m \u001b[0m┃\u001b[1;32m \u001b[0m\u001b[1;32m  AR M\u001b[0m\u001b[1;32m \u001b[0m┃\u001b[1;32m \u001b[0m\u001b[1;32m AR L\u001b[0m\u001b[1;32m \u001b[0m┃\n",
       "┡━━━━━━━━╇━━━━━━━━╇━━━━━━━━╇━━━━━━━━╇━━━━━━━━╇━━━━━━━━╇━━━━━━━━╇━━━━━━━━╇━━━━━━━╇━━━━━━━━╇━━━━━━━╇━━━━━━━━╇━━━━━━━┩\n",
       "│ bicyc… │\u001b[31m \u001b[0m\u001b[31m47.03%\u001b[0m\u001b[31m \u001b[0m│\u001b[31m \u001b[0m\u001b[31m75.87%\u001b[0m\u001b[31m \u001b[0m│\u001b[31m \u001b[0m\u001b[31m49.77%\u001b[0m\u001b[31m \u001b[0m│\u001b[35m \u001b[0m\u001b[35m24.59%\u001b[0m\u001b[35m \u001b[0m│\u001b[35m \u001b[0m\u001b[35m40.37%\u001b[0m\u001b[35m \u001b[0m│\u001b[35m \u001b[0m\u001b[35m57.14%\u001b[0m\u001b[35m \u001b[0m│\u001b[34m \u001b[0m\u001b[34m20.46%\u001b[0m\u001b[34m \u001b[0m│\u001b[34m \u001b[0m\u001b[34m44.3…\u001b[0m\u001b[34m \u001b[0m│\u001b[34m \u001b[0m\u001b[34m47.03%\u001b[0m\u001b[34m \u001b[0m│\u001b[32m \u001b[0m\u001b[32m35.3…\u001b[0m\u001b[32m \u001b[0m│\u001b[32m \u001b[0m\u001b[32m49.66%\u001b[0m\u001b[32m \u001b[0m│\u001b[32m \u001b[0m\u001b[32m65.3…\u001b[0m\u001b[32m \u001b[0m│\n",
       "│\u001b[2m \u001b[0m\u001b[2mcar   \u001b[0m\u001b[2m \u001b[0m│\u001b[2;31m \u001b[0m\u001b[2;31m68.18%\u001b[0m\u001b[2;31m \u001b[0m│\u001b[2;31m \u001b[0m\u001b[2;31m90.73%\u001b[0m\u001b[2;31m \u001b[0m│\u001b[2;31m \u001b[0m\u001b[2;31m76.92%\u001b[0m\u001b[2;31m \u001b[0m│\u001b[2;35m \u001b[0m\u001b[2;35m51.86%\u001b[0m\u001b[2;35m \u001b[0m│\u001b[2;35m \u001b[0m\u001b[2;35m64.95%\u001b[0m\u001b[2;35m \u001b[0m│\u001b[2;35m \u001b[0m\u001b[2;35m76.37%\u001b[0m\u001b[2;35m \u001b[0m│\u001b[2;34m \u001b[0m\u001b[2;34m21.20%\u001b[0m\u001b[2;34m \u001b[0m│\u001b[2;34m \u001b[0m\u001b[2;34m65.5…\u001b[0m\u001b[2;34m \u001b[0m│\u001b[2;34m \u001b[0m\u001b[2;34m68.18%\u001b[0m\u001b[2;34m \u001b[0m│\u001b[2;32m \u001b[0m\u001b[2;32m64.9…\u001b[0m\u001b[2;32m \u001b[0m│\u001b[2;32m \u001b[0m\u001b[2;32m71.97%\u001b[0m\u001b[2;32m \u001b[0m│\u001b[2;32m \u001b[0m\u001b[2;32m80.8…\u001b[0m\u001b[2;32m \u001b[0m│\n",
       "│ dead_… │\u001b[31m \u001b[0m\u001b[31m59.79%\u001b[0m\u001b[31m \u001b[0m│\u001b[31m \u001b[0m\u001b[31m92.11%\u001b[0m\u001b[31m \u001b[0m│\u001b[31m \u001b[0m\u001b[31m70.61%\u001b[0m\u001b[31m \u001b[0m│\u001b[35m \u001b[0m\u001b[35m56.16%\u001b[0m\u001b[35m \u001b[0m│\u001b[35m \u001b[0m\u001b[35m80.11%\u001b[0m\u001b[35m \u001b[0m│\u001b[35m \u001b[0m\u001b[35m  nan%\u001b[0m\u001b[35m \u001b[0m│\u001b[34m \u001b[0m\u001b[34m58.01%\u001b[0m\u001b[34m \u001b[0m│\u001b[34m \u001b[0m\u001b[34m59.7…\u001b[0m\u001b[34m \u001b[0m│\u001b[34m \u001b[0m\u001b[34m59.79%\u001b[0m\u001b[34m \u001b[0m│\u001b[32m \u001b[0m\u001b[32m63.5…\u001b[0m\u001b[32m \u001b[0m│\u001b[32m \u001b[0m\u001b[32m82.67%\u001b[0m\u001b[32m \u001b[0m│\u001b[32m \u001b[0m\u001b[32m nan%\u001b[0m\u001b[32m \u001b[0m│\n",
       "│\u001b[2m \u001b[0m\u001b[2mderail\u001b[0m\u001b[2m \u001b[0m│\u001b[2;31m \u001b[0m\u001b[2;31m71.55%\u001b[0m\u001b[2;31m \u001b[0m│\u001b[2;31m \u001b[0m\u001b[2;31m93.01%\u001b[0m\u001b[2;31m \u001b[0m│\u001b[2;31m \u001b[0m\u001b[2;31m73.63%\u001b[0m\u001b[2;31m \u001b[0m│\u001b[2;35m \u001b[0m\u001b[2;35m40.63%\u001b[0m\u001b[2;35m \u001b[0m│\u001b[2;35m \u001b[0m\u001b[2;35m76.59%\u001b[0m\u001b[2;35m \u001b[0m│\u001b[2;35m \u001b[0m\u001b[2;35m92.18%\u001b[0m\u001b[2;35m \u001b[0m│\u001b[2;34m \u001b[0m\u001b[2;34m54.17%\u001b[0m\u001b[2;34m \u001b[0m│\u001b[2;34m \u001b[0m\u001b[2;34m71.5…\u001b[0m\u001b[2;34m \u001b[0m│\u001b[2;34m \u001b[0m\u001b[2;34m71.55%\u001b[0m\u001b[2;34m \u001b[0m│\u001b[2;32m \u001b[0m\u001b[2;32m45.7…\u001b[0m\u001b[2;32m \u001b[0m│\u001b[2;32m \u001b[0m\u001b[2;32m82.75%\u001b[0m\u001b[2;32m \u001b[0m│\u001b[2;32m \u001b[0m\u001b[2;32m93.9…\u001b[0m\u001b[2;32m \u001b[0m│\n",
       "│ hand_… │\u001b[31m \u001b[0m\u001b[31m74.94%\u001b[0m\u001b[31m \u001b[0m│\u001b[31m \u001b[0m\u001b[31m96.84%\u001b[0m\u001b[31m \u001b[0m│\u001b[31m \u001b[0m\u001b[31m86.28%\u001b[0m\u001b[31m \u001b[0m│\u001b[35m \u001b[0m\u001b[35m46.34%\u001b[0m\u001b[35m \u001b[0m│\u001b[35m \u001b[0m\u001b[35m72.68%\u001b[0m\u001b[35m \u001b[0m│\u001b[35m \u001b[0m\u001b[35m83.66%\u001b[0m\u001b[35m \u001b[0m│\u001b[34m \u001b[0m\u001b[34m51.87%\u001b[0m\u001b[34m \u001b[0m│\u001b[34m \u001b[0m\u001b[34m74.9…\u001b[0m\u001b[34m \u001b[0m│\u001b[34m \u001b[0m\u001b[34m74.94%\u001b[0m\u001b[34m \u001b[0m│\u001b[32m \u001b[0m\u001b[32m61.6…\u001b[0m\u001b[32m \u001b[0m│\u001b[32m \u001b[0m\u001b[32m76.33%\u001b[0m\u001b[32m \u001b[0m│\u001b[32m \u001b[0m\u001b[32m86.4…\u001b[0m\u001b[32m \u001b[0m│\n",
       "│\u001b[2m \u001b[0m\u001b[2mhand_…\u001b[0m\u001b[2m \u001b[0m│\u001b[2;31m \u001b[0m\u001b[2;31m75.87%\u001b[0m\u001b[2;31m \u001b[0m│\u001b[2;31m \u001b[0m\u001b[2;31m96.79%\u001b[0m\u001b[2;31m \u001b[0m│\u001b[2;31m \u001b[0m\u001b[2;31m89.99%\u001b[0m\u001b[2;31m \u001b[0m│\u001b[2;35m \u001b[0m\u001b[2;35m40.80%\u001b[0m\u001b[2;35m \u001b[0m│\u001b[2;35m \u001b[0m\u001b[2;35m69.88%\u001b[0m\u001b[2;35m \u001b[0m│\u001b[2;35m \u001b[0m\u001b[2;35m83.00%\u001b[0m\u001b[2;35m \u001b[0m│\u001b[2;34m \u001b[0m\u001b[2;34m50.46%\u001b[0m\u001b[2;34m \u001b[0m│\u001b[2;34m \u001b[0m\u001b[2;34m75.8…\u001b[0m\u001b[2;34m \u001b[0m│\u001b[2;34m \u001b[0m\u001b[2;34m75.87%\u001b[0m\u001b[2;34m \u001b[0m│\u001b[2;32m \u001b[0m\u001b[2;32m69.3…\u001b[0m\u001b[2;32m \u001b[0m│\u001b[2;32m \u001b[0m\u001b[2;32m76.11%\u001b[0m\u001b[2;32m \u001b[0m│\u001b[2;32m \u001b[0m\u001b[2;32m86.7…\u001b[0m\u001b[2;32m \u001b[0m│\n",
       "│ letter │\u001b[31m \u001b[0m\u001b[31m54.52%\u001b[0m\u001b[31m \u001b[0m│\u001b[31m \u001b[0m\u001b[31m87.54%\u001b[0m\u001b[31m \u001b[0m│\u001b[31m \u001b[0m\u001b[31m58.85%\u001b[0m\u001b[31m \u001b[0m│\u001b[35m \u001b[0m\u001b[35m45.16%\u001b[0m\u001b[35m \u001b[0m│\u001b[35m \u001b[0m\u001b[35m71.57%\u001b[0m\u001b[35m \u001b[0m│\u001b[35m \u001b[0m\u001b[35m80.74%\u001b[0m\u001b[35m \u001b[0m│\u001b[34m \u001b[0m\u001b[34m41.82%\u001b[0m\u001b[34m \u001b[0m│\u001b[34m \u001b[0m\u001b[34m54.5…\u001b[0m\u001b[34m \u001b[0m│\u001b[34m \u001b[0m\u001b[34m54.52%\u001b[0m\u001b[34m \u001b[0m│\u001b[32m \u001b[0m\u001b[32m52.9…\u001b[0m\u001b[32m \u001b[0m│\u001b[32m \u001b[0m\u001b[32m75.62%\u001b[0m\u001b[32m \u001b[0m│\u001b[32m \u001b[0m\u001b[32m83.7…\u001b[0m\u001b[32m \u001b[0m│\n",
       "│\u001b[2m \u001b[0m\u001b[2mmaneu…\u001b[0m\u001b[2m \u001b[0m│\u001b[2;31m \u001b[0m\u001b[2;31m67.61%\u001b[0m\u001b[2;31m \u001b[0m│\u001b[2;31m \u001b[0m\u001b[2;31m93.79%\u001b[0m\u001b[2;31m \u001b[0m│\u001b[2;31m \u001b[0m\u001b[2;31m70.98%\u001b[0m\u001b[2;31m \u001b[0m│\u001b[2;35m \u001b[0m\u001b[2;35m59.29%\u001b[0m\u001b[2;35m \u001b[0m│\u001b[2;35m \u001b[0m\u001b[2;35m77.34%\u001b[0m\u001b[2;35m \u001b[0m│\u001b[2;35m \u001b[0m\u001b[2;35m100.0…\u001b[0m\u001b[2;35m \u001b[0m│\u001b[2;34m \u001b[0m\u001b[2;34m64.98%\u001b[0m\u001b[2;34m \u001b[0m│\u001b[2;34m \u001b[0m\u001b[2;34m67.6…\u001b[0m\u001b[2;34m \u001b[0m│\u001b[2;34m \u001b[0m\u001b[2;34m67.61%\u001b[0m\u001b[2;34m \u001b[0m│\u001b[2;32m \u001b[0m\u001b[2;32m64.2…\u001b[0m\u001b[2;32m \u001b[0m│\u001b[2;32m \u001b[0m\u001b[2;32m82.00%\u001b[0m\u001b[2;32m \u001b[0m│\u001b[2;32m \u001b[0m\u001b[2;32m100.…\u001b[0m\u001b[2;32m \u001b[0m│\n",
       "│ miles… │\u001b[31m \u001b[0m\u001b[31m70.05%\u001b[0m\u001b[31m \u001b[0m│\u001b[31m \u001b[0m\u001b[31m93.53%\u001b[0m\u001b[31m \u001b[0m│\u001b[31m \u001b[0m\u001b[31m83.29%\u001b[0m\u001b[31m \u001b[0m│\u001b[35m \u001b[0m\u001b[35m47.59%\u001b[0m\u001b[35m \u001b[0m│\u001b[35m \u001b[0m\u001b[35m73.16%\u001b[0m\u001b[35m \u001b[0m│\u001b[35m \u001b[0m\u001b[35m75.09%\u001b[0m\u001b[35m \u001b[0m│\u001b[34m \u001b[0m\u001b[34m69.77%\u001b[0m\u001b[34m \u001b[0m│\u001b[34m \u001b[0m\u001b[34m70.0…\u001b[0m\u001b[34m \u001b[0m│\u001b[34m \u001b[0m\u001b[34m70.05%\u001b[0m\u001b[34m \u001b[0m│\u001b[32m \u001b[0m\u001b[32m57.8…\u001b[0m\u001b[32m \u001b[0m│\u001b[32m \u001b[0m\u001b[32m77.91%\u001b[0m\u001b[32m \u001b[0m│\u001b[32m \u001b[0m\u001b[32m79.0…\u001b[0m\u001b[32m \u001b[0m│\n",
       "│\u001b[2m \u001b[0m\u001b[2mmotor…\u001b[0m\u001b[2m \u001b[0m│\u001b[2;31m \u001b[0m\u001b[2;31m46.29%\u001b[0m\u001b[2;31m \u001b[0m│\u001b[2;31m \u001b[0m\u001b[2;31m77.86%\u001b[0m\u001b[2;31m \u001b[0m│\u001b[2;31m \u001b[0m\u001b[2;31m49.16%\u001b[0m\u001b[2;31m \u001b[0m│\u001b[2;35m \u001b[0m\u001b[2;35m21.57%\u001b[0m\u001b[2;35m \u001b[0m│\u001b[2;35m \u001b[0m\u001b[2;35m33.47%\u001b[0m\u001b[2;35m \u001b[0m│\u001b[2;35m \u001b[0m\u001b[2;35m54.68%\u001b[0m\u001b[2;35m \u001b[0m│\u001b[2;34m \u001b[0m\u001b[2;34m25.12%\u001b[0m\u001b[2;34m \u001b[0m│\u001b[2;34m \u001b[0m\u001b[2;34m44.9…\u001b[0m\u001b[2;34m \u001b[0m│\u001b[2;34m \u001b[0m\u001b[2;34m46.29%\u001b[0m\u001b[2;34m \u001b[0m│\u001b[2;32m \u001b[0m\u001b[2;32m30.7…\u001b[0m\u001b[2;32m \u001b[0m│\u001b[2;32m \u001b[0m\u001b[2;32m41.95%\u001b[0m\u001b[2;32m \u001b[0m│\u001b[2;32m \u001b[0m\u001b[2;32m66.0…\u001b[0m\u001b[2;32m \u001b[0m│\n",
       "│ person │\u001b[31m \u001b[0m\u001b[31m56.16%\u001b[0m\u001b[31m \u001b[0m│\u001b[31m \u001b[0m\u001b[31m86.24%\u001b[0m\u001b[31m \u001b[0m│\u001b[31m \u001b[0m\u001b[31m61.26%\u001b[0m\u001b[31m \u001b[0m│\u001b[35m \u001b[0m\u001b[35m35.75%\u001b[0m\u001b[35m \u001b[0m│\u001b[35m \u001b[0m\u001b[35m52.65%\u001b[0m\u001b[35m \u001b[0m│\u001b[35m \u001b[0m\u001b[35m69.15%\u001b[0m\u001b[35m \u001b[0m│\u001b[34m \u001b[0m\u001b[34m16.51%\u001b[0m\u001b[34m \u001b[0m│\u001b[34m \u001b[0m\u001b[34m47.1…\u001b[0m\u001b[34m \u001b[0m│\u001b[34m \u001b[0m\u001b[34m56.16%\u001b[0m\u001b[34m \u001b[0m│\u001b[32m \u001b[0m\u001b[32m50.5…\u001b[0m\u001b[32m \u001b[0m│\u001b[32m \u001b[0m\u001b[32m61.70%\u001b[0m\u001b[32m \u001b[0m│\u001b[32m \u001b[0m\u001b[32m75.4…\u001b[0m\u001b[32m \u001b[0m│\n",
       "│\u001b[2m \u001b[0m\u001b[2mpillar\u001b[0m\u001b[2m \u001b[0m│\u001b[2;31m \u001b[0m\u001b[2;31m55.26%\u001b[0m\u001b[2;31m \u001b[0m│\u001b[2;31m \u001b[0m\u001b[2;31m91.39%\u001b[0m\u001b[2;31m \u001b[0m│\u001b[2;31m \u001b[0m\u001b[2;31m60.03%\u001b[0m\u001b[2;31m \u001b[0m│\u001b[2;35m \u001b[0m\u001b[2;35m49.34%\u001b[0m\u001b[2;35m \u001b[0m│\u001b[2;35m \u001b[0m\u001b[2;35m71.09%\u001b[0m\u001b[2;35m \u001b[0m│\u001b[2;35m \u001b[0m\u001b[2;35m77.81%\u001b[0m\u001b[2;35m \u001b[0m│\u001b[2;34m \u001b[0m\u001b[2;34m34.46%\u001b[0m\u001b[2;34m \u001b[0m│\u001b[2;34m \u001b[0m\u001b[2;34m55.1…\u001b[0m\u001b[2;34m \u001b[0m│\u001b[2;34m \u001b[0m\u001b[2;34m55.26%\u001b[0m\u001b[2;34m \u001b[0m│\u001b[2;32m \u001b[0m\u001b[2;32m56.3…\u001b[0m\u001b[2;32m \u001b[0m│\u001b[2;32m \u001b[0m\u001b[2;32m76.52%\u001b[0m\u001b[2;32m \u001b[0m│\u001b[2;32m \u001b[0m\u001b[2;32m81.8…\u001b[0m\u001b[2;32m \u001b[0m│\n",
       "│ sign   │\u001b[31m \u001b[0m\u001b[31m53.15%\u001b[0m\u001b[31m \u001b[0m│\u001b[31m \u001b[0m\u001b[31m79.78%\u001b[0m\u001b[31m \u001b[0m│\u001b[31m \u001b[0m\u001b[31m58.27%\u001b[0m\u001b[31m \u001b[0m│\u001b[35m \u001b[0m\u001b[35m44.28%\u001b[0m\u001b[35m \u001b[0m│\u001b[35m \u001b[0m\u001b[35m71.96%\u001b[0m\u001b[35m \u001b[0m│\u001b[35m \u001b[0m\u001b[35m40.40%\u001b[0m\u001b[35m \u001b[0m│\u001b[34m \u001b[0m\u001b[34m50.18%\u001b[0m\u001b[34m \u001b[0m│\u001b[34m \u001b[0m\u001b[34m53.1…\u001b[0m\u001b[34m \u001b[0m│\u001b[34m \u001b[0m\u001b[34m53.15%\u001b[0m\u001b[34m \u001b[0m│\u001b[32m \u001b[0m\u001b[32m52.7…\u001b[0m\u001b[32m \u001b[0m│\u001b[32m \u001b[0m\u001b[32m75.00%\u001b[0m\u001b[32m \u001b[0m│\u001b[32m \u001b[0m\u001b[32m40.0…\u001b[0m\u001b[32m \u001b[0m│\n",
       "│\u001b[2m \u001b[0m\u001b[2msound…\u001b[0m\u001b[2m \u001b[0m│\u001b[2;31m \u001b[0m\u001b[2;31m76.95%\u001b[0m\u001b[2;31m \u001b[0m│\u001b[2;31m \u001b[0m\u001b[2;31m95.39%\u001b[0m\u001b[2;31m \u001b[0m│\u001b[2;31m \u001b[0m\u001b[2;31m92.21%\u001b[0m\u001b[2;31m \u001b[0m│\u001b[2;35m \u001b[0m\u001b[2;35m69.71%\u001b[0m\u001b[2;35m \u001b[0m│\u001b[2;35m \u001b[0m\u001b[2;35m81.30%\u001b[0m\u001b[2;35m \u001b[0m│\u001b[2;35m \u001b[0m\u001b[2;35m93.17%\u001b[0m\u001b[2;35m \u001b[0m│\u001b[2;34m \u001b[0m\u001b[2;34m59.94%\u001b[0m\u001b[2;34m \u001b[0m│\u001b[2;34m \u001b[0m\u001b[2;34m76.9…\u001b[0m\u001b[2;34m \u001b[0m│\u001b[2;34m \u001b[0m\u001b[2;34m76.95%\u001b[0m\u001b[2;34m \u001b[0m│\u001b[2;32m \u001b[0m\u001b[2;32m75.0…\u001b[0m\u001b[2;32m \u001b[0m│\u001b[2;32m \u001b[0m\u001b[2;32m84.63%\u001b[0m\u001b[2;32m \u001b[0m│\u001b[2;32m \u001b[0m\u001b[2;32m94.5…\u001b[0m\u001b[2;32m \u001b[0m│\n",
       "│ tflig… │\u001b[31m \u001b[0m\u001b[31m57.07%\u001b[0m\u001b[31m \u001b[0m│\u001b[31m \u001b[0m\u001b[31m89.22%\u001b[0m\u001b[31m \u001b[0m│\u001b[31m \u001b[0m\u001b[31m61.57%\u001b[0m\u001b[31m \u001b[0m│\u001b[35m \u001b[0m\u001b[35m46.46%\u001b[0m\u001b[35m \u001b[0m│\u001b[35m \u001b[0m\u001b[35m71.30%\u001b[0m\u001b[35m \u001b[0m│\u001b[35m \u001b[0m\u001b[35m79.14%\u001b[0m\u001b[35m \u001b[0m│\u001b[34m \u001b[0m\u001b[34m24.72%\u001b[0m\u001b[34m \u001b[0m│\u001b[34m \u001b[0m\u001b[34m56.2…\u001b[0m\u001b[34m \u001b[0m│\u001b[34m \u001b[0m\u001b[34m57.07%\u001b[0m\u001b[34m \u001b[0m│\u001b[32m \u001b[0m\u001b[32m54.6…\u001b[0m\u001b[32m \u001b[0m│\u001b[32m \u001b[0m\u001b[32m75.96%\u001b[0m\u001b[32m \u001b[0m│\u001b[32m \u001b[0m\u001b[32m82.9…\u001b[0m\u001b[32m \u001b[0m│\n",
       "│\u001b[2m \u001b[0m\u001b[2mtrain \u001b[0m\u001b[2m \u001b[0m│\u001b[2;31m \u001b[0m\u001b[2;31m54.72%\u001b[0m\u001b[2;31m \u001b[0m│\u001b[2;31m \u001b[0m\u001b[2;31m82.58%\u001b[0m\u001b[2;31m \u001b[0m│\u001b[2;31m \u001b[0m\u001b[2;31m58.00%\u001b[0m\u001b[2;31m \u001b[0m│\u001b[2;35m \u001b[0m\u001b[2;35m44.52%\u001b[0m\u001b[2;35m \u001b[0m│\u001b[2;35m \u001b[0m\u001b[2;35m50.44%\u001b[0m\u001b[2;35m \u001b[0m│\u001b[2;35m \u001b[0m\u001b[2;35m56.55%\u001b[0m\u001b[2;35m \u001b[0m│\u001b[2;34m \u001b[0m\u001b[2;34m27.85%\u001b[0m\u001b[2;34m \u001b[0m│\u001b[2;34m \u001b[0m\u001b[2;34m54.4…\u001b[0m\u001b[2;34m \u001b[0m│\u001b[2;34m \u001b[0m\u001b[2;34m54.72%\u001b[0m\u001b[2;34m \u001b[0m│\u001b[2;32m \u001b[0m\u001b[2;32m62.7…\u001b[0m\u001b[2;32m \u001b[0m│\u001b[2;32m \u001b[0m\u001b[2;32m64.69%\u001b[0m\u001b[2;32m \u001b[0m│\u001b[2;32m \u001b[0m\u001b[2;32m71.4…\u001b[0m\u001b[2;32m \u001b[0m│\n",
       "│ worker │\u001b[31m \u001b[0m\u001b[31m69.42%\u001b[0m\u001b[31m \u001b[0m│\u001b[31m \u001b[0m\u001b[31m92.14%\u001b[0m\u001b[31m \u001b[0m│\u001b[31m \u001b[0m\u001b[31m78.40%\u001b[0m\u001b[31m \u001b[0m│\u001b[35m \u001b[0m\u001b[35m47.30%\u001b[0m\u001b[35m \u001b[0m│\u001b[35m \u001b[0m\u001b[35m65.20%\u001b[0m\u001b[35m \u001b[0m│\u001b[35m \u001b[0m\u001b[35m77.74%\u001b[0m\u001b[35m \u001b[0m│\u001b[34m \u001b[0m\u001b[34m49.38%\u001b[0m\u001b[34m \u001b[0m│\u001b[34m \u001b[0m\u001b[34m69.1…\u001b[0m\u001b[34m \u001b[0m│\u001b[34m \u001b[0m\u001b[34m69.42%\u001b[0m\u001b[34m \u001b[0m│\u001b[32m \u001b[0m\u001b[32m59.8…\u001b[0m\u001b[32m \u001b[0m│\u001b[32m \u001b[0m\u001b[32m71.65%\u001b[0m\u001b[32m \u001b[0m│\u001b[32m \u001b[0m\u001b[32m81.8…\u001b[0m\u001b[32m \u001b[0m│\n",
       "├────────┼────────┼────────┼────────┼────────┼────────┼────────┼────────┼───────┼────────┼───────┼────────┼───────┤\n",
       "│\u001b[1m \u001b[0m\u001b[1mTotal \u001b[0m\u001b[1m \u001b[0m│\u001b[1;31m \u001b[0m\u001b[1;31m62.27%\u001b[0m\u001b[1;31m \u001b[0m│\u001b[1;31m \u001b[0m\u001b[1;31m89.11%\u001b[0m\u001b[1;31m \u001b[0m│\u001b[1;31m \u001b[0m\u001b[1;31m69.37%\u001b[0m\u001b[1;31m \u001b[0m│\u001b[1;35m \u001b[0m\u001b[1;35m45.37%\u001b[0m\u001b[1;35m \u001b[0m│\u001b[1;35m \u001b[0m\u001b[1;35m66.12%\u001b[0m\u001b[1;35m \u001b[0m│\u001b[1;35m \u001b[0m\u001b[1;35m74.80%\u001b[0m\u001b[1;35m \u001b[0m│\u001b[1;34m \u001b[0m\u001b[1;34m45.13%\u001b[0m\u001b[1;34m \u001b[0m│\u001b[1;34m \u001b[0m\u001b[1;34m66.9…\u001b[0m\u001b[1;34m \u001b[0m│\u001b[1;34m \u001b[0m\u001b[1;34m68.48%\u001b[0m\u001b[1;34m \u001b[0m│\u001b[1;32m \u001b[0m\u001b[1;32m56.3…\u001b[0m\u001b[1;32m \u001b[0m│\u001b[1;32m \u001b[0m\u001b[1;32m72.18%\u001b[0m\u001b[1;32m \u001b[0m│\u001b[1;32m \u001b[0m\u001b[1;32m79.3…\u001b[0m\u001b[1;32m \u001b[0m│\n",
       "└────────┴────────┴────────┴────────┴────────┴────────┴────────┴────────┴───────┴────────┴───────┴────────┴───────┘\n"
      ]
     },
     "metadata": {},
     "output_type": "display_data"
    }
   ],
   "source": [
    "from globox import AnnotationSet, COCOEvaluator\n",
    "\n",
    "annset_gt = AnnotationSet.from_coco(\"/mnt/work_share/DWH/DataSets/Detection/11/1/labels/ann_det11.1_test.json\")\n",
    "annset_pr = AnnotationSet.from_coco(\"/mnt/work_share/developers/rybin/models/ObjectDetection/yolov7-1280-cls17/test/annotation.json\")\n",
    "\n",
    "evaluator = COCOEvaluator(ground_truths=annset_gt, predictions=annset_pr)\n",
    "evaluator.show_summary()"
   ]
  }
 ],
 "metadata": {
  "kernelspec": {
   "display_name": "venv",
   "language": "python",
   "name": "python3"
  },
  "language_info": {
   "codemirror_mode": {
    "name": "ipython",
    "version": 3
   },
   "file_extension": ".py",
   "mimetype": "text/x-python",
   "name": "python",
   "nbconvert_exporter": "python",
   "pygments_lexer": "ipython3",
   "version": "3.8.10"
  },
  "orig_nbformat": 4
 },
 "nbformat": 4,
 "nbformat_minor": 2
}

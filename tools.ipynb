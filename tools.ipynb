{
 "cells": [
  {
   "attachments": {},
   "cell_type": "markdown",
   "metadata": {},
   "source": [
    "## Конвертация YOLO-датасета в COCO фомат"
   ]
  },
  {
   "cell_type": "code",
   "execution_count": 10,
   "metadata": {},
   "outputs": [],
   "source": [
    "from globox import AnnotationSet, Annotation, BoundingBox\n",
    "from pathlib import Path, PosixPath\n",
    "from PIL import Image\n",
    "import numpy as np\n",
    "from tqdm import tqdm"
   ]
  },
  {
   "cell_type": "code",
   "execution_count": 26,
   "metadata": {},
   "outputs": [],
   "source": [
    "labels_path = Path(\"/mnt/work_share/DWH/DataSets/Detection/10/0/yolo/labels/test/\")\n",
    "images_path = Path(\"/mnt/work_share/DWH/DataSets/Detection/10/0/yolo/images/test/\")\n",
    "labels = Path(\"/home/rybin/Dev/assets/nlmk11/obj.names\").read_text().splitlines()"
   ]
  },
  {
   "cell_type": "code",
   "execution_count": null,
   "metadata": {},
   "outputs": [],
   "source": [
    "def find_open_img(imgs_path:PosixPath, name):\n",
    "    from PIL import Image\n",
    "    impath = imgs_path / name\n",
    "    for ext in [\".jpg\", \".JPG\", \".jpeg\", \".JPEG\", \".png\", \".PNG\"]:\n",
    "        impath_ = impath.with_suffix(ext)\n",
    "        if impath_.exists():\n",
    "            try:\n",
    "                return Image.open(impath_), impath_\n",
    "            except:\n",
    "                print(\"error open\", impath_)\n",
    "                pass\n",
    "    return None, impath\n",
    "\n",
    "annset = AnnotationSet()\n",
    "lab_names = sorted([p for p in labels_path.glob(\"*.txt\")])\n",
    "for i, lab_path in enumerate(tqdm(lab_names)):\n",
    "    img, img_path = find_open_img(images_path, lab_path.stem)\n",
    "    if img is None:\n",
    "        print(\"missing\", img_path)\n",
    "    else:\n",
    "        w, h = img.size\n",
    "        ann = Annotation(img_path.name, (w, h))\n",
    "        ann_txt = Path(lab_path).read_text()\n",
    "        for line in ann_txt.splitlines():\n",
    "            cls_id, *bbox_str = line.split()\n",
    "            x0, y0, bw, bh = map(float, bbox_str)\n",
    "            bbox = BoundingBox(label=labels[int(cls_id)], \n",
    "                            xmin=w*(x0 - bw/2),\n",
    "                            ymin=h*(y0 - bh/2),\n",
    "                            xmax=w*(x0 + bw/2),\n",
    "                            ymax=h*(y0 + bh/2),\n",
    "                            confidence=1)\n",
    "            print(bbox.is_ground_truth)\n",
    "            ann.add(bbox)\n",
    "    annset.add(ann, override=True)"
   ]
  },
  {
   "cell_type": "code",
   "execution_count": 7,
   "metadata": {},
   "outputs": [
    {
     "data": {
      "text/html": [
       "<pre style=\"white-space:pre;overflow-x:auto;line-height:normal;font-family:Menlo,'DejaVu Sans Mono',consolas,'Courier New',monospace\"><span style=\"font-style: italic\">            Database Stats             </span>\n",
       "┏━━━━━━━━━━━━━━━━━━━━┳━━━━━━━━┳━━━━━━━┓\n",
       "┃<span style=\"font-weight: bold\"> Label              </span>┃<span style=\"font-weight: bold\"> Images </span>┃<span style=\"font-weight: bold\"> Boxes </span>┃\n",
       "┡━━━━━━━━━━━━━━━━━━━━╇━━━━━━━━╇━━━━━━━┩\n",
       "│ &lt;empty_image&gt;      │     58 │     0 │\n",
       "│ bicycle            │    328 │   979 │\n",
       "│ car                │   1144 │  4163 │\n",
       "│ dead_stop          │    119 │   123 │\n",
       "│ derail             │    134 │   205 │\n",
       "│ hand_shifter_left  │    307 │   465 │\n",
       "│ hand_shifter_right │    284 │   450 │\n",
       "│ letter             │   1401 │  1947 │\n",
       "│ maneuver           │     34 │    35 │\n",
       "│ milestone          │    396 │   397 │\n",
       "│ motorcycle         │    190 │   398 │\n",
       "│ person             │   1296 │  5675 │\n",
       "│ pillar             │   3263 │  6109 │\n",
       "│ sign               │     54 │    63 │\n",
       "│ sound_signal       │    241 │   318 │\n",
       "│ tflight            │   2502 │  6651 │\n",
       "│ train              │   2471 │  5300 │\n",
       "│ worker             │    505 │   749 │\n",
       "├────────────────────┼────────┼───────┤\n",
       "│<span style=\"font-weight: bold\"> Total              </span>│<span style=\"font-weight: bold\">   7186 </span>│<span style=\"font-weight: bold\"> 34027 </span>│\n",
       "└────────────────────┴────────┴───────┘\n",
       "</pre>\n"
      ],
      "text/plain": [
       "\u001b[3m            Database Stats             \u001b[0m\n",
       "┏━━━━━━━━━━━━━━━━━━━━┳━━━━━━━━┳━━━━━━━┓\n",
       "┃\u001b[1m \u001b[0m\u001b[1mLabel             \u001b[0m\u001b[1m \u001b[0m┃\u001b[1m \u001b[0m\u001b[1mImages\u001b[0m\u001b[1m \u001b[0m┃\u001b[1m \u001b[0m\u001b[1mBoxes\u001b[0m\u001b[1m \u001b[0m┃\n",
       "┡━━━━━━━━━━━━━━━━━━━━╇━━━━━━━━╇━━━━━━━┩\n",
       "│ <empty_image>      │     58 │     0 │\n",
       "│ bicycle            │    328 │   979 │\n",
       "│ car                │   1144 │  4163 │\n",
       "│ dead_stop          │    119 │   123 │\n",
       "│ derail             │    134 │   205 │\n",
       "│ hand_shifter_left  │    307 │   465 │\n",
       "│ hand_shifter_right │    284 │   450 │\n",
       "│ letter             │   1401 │  1947 │\n",
       "│ maneuver           │     34 │    35 │\n",
       "│ milestone          │    396 │   397 │\n",
       "│ motorcycle         │    190 │   398 │\n",
       "│ person             │   1296 │  5675 │\n",
       "│ pillar             │   3263 │  6109 │\n",
       "│ sign               │     54 │    63 │\n",
       "│ sound_signal       │    241 │   318 │\n",
       "│ tflight            │   2502 │  6651 │\n",
       "│ train              │   2471 │  5300 │\n",
       "│ worker             │    505 │   749 │\n",
       "├────────────────────┼────────┼───────┤\n",
       "│\u001b[1m \u001b[0m\u001b[1mTotal             \u001b[0m\u001b[1m \u001b[0m│\u001b[1m \u001b[0m\u001b[1m  7186\u001b[0m\u001b[1m \u001b[0m│\u001b[1m \u001b[0m\u001b[1m34027\u001b[0m\u001b[1m \u001b[0m│\n",
       "└────────────────────┴────────┴───────┘\n"
      ]
     },
     "metadata": {},
     "output_type": "display_data"
    },
    {
     "name": "stdout",
     "output_type": "stream",
     "text": [
      "None\n"
     ]
    }
   ],
   "source": [
    "print(annset.show_stats())"
   ]
  },
  {
   "cell_type": "code",
   "execution_count": 8,
   "metadata": {},
   "outputs": [],
   "source": [
    "annset._id_to_imageid = {i:img for i, img in enumerate(annset.image_ids)}\n",
    "annset._id_to_label = {i:lab for i, lab in enumerate(labels)}"
   ]
  },
  {
   "cell_type": "code",
   "execution_count": 9,
   "metadata": {},
   "outputs": [],
   "source": [
    "import json\n",
    "json.dump(annset.to_coco(), open(\"/home/rybin/Dev/assets/nlmk11/annotation.json\", \"w\"))"
   ]
  },
  {
   "attachments": {},
   "cell_type": "markdown",
   "metadata": {},
   "source": [
    "## Вычисление метрик"
   ]
  },
  {
   "cell_type": "code",
   "execution_count": 2,
   "metadata": {},
   "outputs": [],
   "source": [
    "from globox import AnnotationSet\n",
    "annset_gt = AnnotationSet.from_coco(\"/home/rybin/Dev/assets/nlmk11/annotation.json\")\n",
    "annset_pr = AnnotationSet.from_coco(\"/home/rybin/Dev/yolov7/runs/detect/yolov7d6-nlmk11-3/annotation.json\")"
   ]
  },
  {
   "cell_type": "code",
   "execution_count": 21,
   "metadata": {},
   "outputs": [
    {
     "data": {
      "text/html": [
       "<pre style=\"white-space:pre;overflow-x:auto;line-height:normal;font-family:Menlo,'DejaVu Sans Mono',consolas,'Courier New',monospace\"><span style=\"font-style: italic\">                                                  COCO Evaluation                                                  </span>\n",
       "┏━━━━━━━━┳━━━━━━━━┳━━━━━━━━┳━━━━━━━━┳━━━━━━━━┳━━━━━━━━┳━━━━━━━━┳━━━━━━━━┳━━━━━━━┳━━━━━━━━┳━━━━━━━┳━━━━━━━━┳━━━━━━━┓\n",
       "┃<span style=\"font-weight: bold\">        </span>┃<span style=\"color: #800000; text-decoration-color: #800000; font-weight: bold\">     AP </span>┃<span style=\"color: #800000; text-decoration-color: #800000; font-weight: bold\">        </span>┃<span style=\"color: #800000; text-decoration-color: #800000; font-weight: bold\">        </span>┃<span style=\"color: #800080; text-decoration-color: #800080; font-weight: bold\">        </span>┃<span style=\"color: #800080; text-decoration-color: #800080; font-weight: bold\">        </span>┃<span style=\"color: #800080; text-decoration-color: #800080; font-weight: bold\">        </span>┃<span style=\"color: #000080; text-decoration-color: #000080; font-weight: bold\">        </span>┃<span style=\"color: #000080; text-decoration-color: #000080; font-weight: bold\">       </span>┃<span style=\"color: #000080; text-decoration-color: #000080; font-weight: bold\">        </span>┃<span style=\"color: #008000; text-decoration-color: #008000; font-weight: bold\">       </span>┃<span style=\"color: #008000; text-decoration-color: #008000; font-weight: bold\">        </span>┃<span style=\"color: #008000; text-decoration-color: #008000; font-weight: bold\">       </span>┃\n",
       "┃<span style=\"font-weight: bold\"> Label  </span>┃<span style=\"color: #800000; text-decoration-color: #800000; font-weight: bold\">  50:95 </span>┃<span style=\"color: #800000; text-decoration-color: #800000; font-weight: bold\">  AP 50 </span>┃<span style=\"color: #800000; text-decoration-color: #800000; font-weight: bold\">  AP 75 </span>┃<span style=\"color: #800080; text-decoration-color: #800080; font-weight: bold\">   AP S </span>┃<span style=\"color: #800080; text-decoration-color: #800080; font-weight: bold\">   AP M </span>┃<span style=\"color: #800080; text-decoration-color: #800080; font-weight: bold\">   AP L </span>┃<span style=\"color: #000080; text-decoration-color: #000080; font-weight: bold\">   AR 1 </span>┃<span style=\"color: #000080; text-decoration-color: #000080; font-weight: bold\"> AR 10 </span>┃<span style=\"color: #000080; text-decoration-color: #000080; font-weight: bold\"> AR 100 </span>┃<span style=\"color: #008000; text-decoration-color: #008000; font-weight: bold\">  AR S </span>┃<span style=\"color: #008000; text-decoration-color: #008000; font-weight: bold\">   AR M </span>┃<span style=\"color: #008000; text-decoration-color: #008000; font-weight: bold\">  AR L </span>┃\n",
       "┡━━━━━━━━╇━━━━━━━━╇━━━━━━━━╇━━━━━━━━╇━━━━━━━━╇━━━━━━━━╇━━━━━━━━╇━━━━━━━━╇━━━━━━━╇━━━━━━━━╇━━━━━━━╇━━━━━━━━╇━━━━━━━┩\n",
       "│ bicyc… │<span style=\"color: #800000; text-decoration-color: #800000\"> 38.31% </span>│<span style=\"color: #800000; text-decoration-color: #800000\"> 58.77% </span>│<span style=\"color: #800000; text-decoration-color: #800000\"> 42.35% </span>│<span style=\"color: #800080; text-decoration-color: #800080\"> 21.01% </span>│<span style=\"color: #800080; text-decoration-color: #800080\"> 29.30% </span>│<span style=\"color: #800080; text-decoration-color: #800080\"> 47.54% </span>│<span style=\"color: #000080; text-decoration-color: #000080\"> 22.26% </span>│<span style=\"color: #000080; text-decoration-color: #000080\"> 37.9… </span>│<span style=\"color: #000080; text-decoration-color: #000080\"> 38.31% </span>│<span style=\"color: #008000; text-decoration-color: #008000\"> 28.0… </span>│<span style=\"color: #008000; text-decoration-color: #008000\"> 34.58% </span>│<span style=\"color: #008000; text-decoration-color: #008000\"> 50.2… </span>│\n",
       "│<span style=\"color: #7f7f7f; text-decoration-color: #7f7f7f\"> car    </span>│<span style=\"color: #bf7f7f; text-decoration-color: #bf7f7f\"> 50.80% </span>│<span style=\"color: #bf7f7f; text-decoration-color: #bf7f7f\"> 68.00% </span>│<span style=\"color: #bf7f7f; text-decoration-color: #bf7f7f\"> 58.07% </span>│<span style=\"color: #bf7fbf; text-decoration-color: #bf7fbf\"> 39.04% </span>│<span style=\"color: #bf7fbf; text-decoration-color: #bf7fbf\"> 44.86% </span>│<span style=\"color: #bf7fbf; text-decoration-color: #bf7fbf\"> 61.32% </span>│<span style=\"color: #7f7fbf; text-decoration-color: #7f7fbf\"> 21.04% </span>│<span style=\"color: #7f7fbf; text-decoration-color: #7f7fbf\"> 50.5… </span>│<span style=\"color: #7f7fbf; text-decoration-color: #7f7fbf\"> 50.80% </span>│<span style=\"color: #7fbf7f; text-decoration-color: #7fbf7f\"> 44.8… </span>│<span style=\"color: #7fbf7f; text-decoration-color: #7fbf7f\"> 49.36% </span>│<span style=\"color: #7fbf7f; text-decoration-color: #7fbf7f\"> 64.1… </span>│\n",
       "│ dead_… │<span style=\"color: #800000; text-decoration-color: #800000\"> 58.12% </span>│<span style=\"color: #800000; text-decoration-color: #800000\"> 90.49% </span>│<span style=\"color: #800000; text-decoration-color: #800000\"> 65.60% </span>│<span style=\"color: #800080; text-decoration-color: #800080\"> 54.83% </span>│<span style=\"color: #800080; text-decoration-color: #800080\"> 77.21% </span>│<span style=\"color: #800080; text-decoration-color: #800080\">   nan% </span>│<span style=\"color: #000080; text-decoration-color: #000080\"> 56.27% </span>│<span style=\"color: #000080; text-decoration-color: #000080\"> 58.1… </span>│<span style=\"color: #000080; text-decoration-color: #000080\"> 58.12% </span>│<span style=\"color: #008000; text-decoration-color: #008000\"> 60.6… </span>│<span style=\"color: #008000; text-decoration-color: #008000\"> 80.00% </span>│<span style=\"color: #008000; text-decoration-color: #008000\">  nan% </span>│\n",
       "│<span style=\"color: #7f7f7f; text-decoration-color: #7f7f7f\"> derail </span>│<span style=\"color: #bf7f7f; text-decoration-color: #bf7f7f\"> 56.94% </span>│<span style=\"color: #bf7f7f; text-decoration-color: #bf7f7f\"> 86.65% </span>│<span style=\"color: #bf7f7f; text-decoration-color: #bf7f7f\"> 67.87% </span>│<span style=\"color: #bf7fbf; text-decoration-color: #bf7fbf\"> 36.07% </span>│<span style=\"color: #bf7fbf; text-decoration-color: #bf7fbf\"> 69.94% </span>│<span style=\"color: #bf7fbf; text-decoration-color: #bf7fbf\"> 68.78% </span>│<span style=\"color: #7f7fbf; text-decoration-color: #7f7fbf\"> 43.64% </span>│<span style=\"color: #7f7fbf; text-decoration-color: #7f7fbf\"> 56.9… </span>│<span style=\"color: #7f7fbf; text-decoration-color: #7f7fbf\"> 56.94% </span>│<span style=\"color: #7fbf7f; text-decoration-color: #7fbf7f\"> 39.4… </span>│<span style=\"color: #7fbf7f; text-decoration-color: #7fbf7f\"> 74.50% </span>│<span style=\"color: #7fbf7f; text-decoration-color: #7fbf7f\"> 72.4… </span>│\n",
       "│ hand_… │<span style=\"color: #800000; text-decoration-color: #800000\"> 73.57% </span>│<span style=\"color: #800000; text-decoration-color: #800000\"> 95.88% </span>│<span style=\"color: #800000; text-decoration-color: #800000\"> 88.28% </span>│<span style=\"color: #800080; text-decoration-color: #800080\"> 49.97% </span>│<span style=\"color: #800080; text-decoration-color: #800080\"> 69.87% </span>│<span style=\"color: #800080; text-decoration-color: #800080\"> 82.71% </span>│<span style=\"color: #000080; text-decoration-color: #000080\"> 51.23% </span>│<span style=\"color: #000080; text-decoration-color: #000080\"> 73.5… </span>│<span style=\"color: #000080; text-decoration-color: #000080\"> 73.57% </span>│<span style=\"color: #008000; text-decoration-color: #008000\"> 59.1… </span>│<span style=\"color: #008000; text-decoration-color: #008000\"> 74.21% </span>│<span style=\"color: #008000; text-decoration-color: #008000\"> 85.2… </span>│\n",
       "│<span style=\"color: #7f7f7f; text-decoration-color: #7f7f7f\"> hand_… </span>│<span style=\"color: #bf7f7f; text-decoration-color: #bf7f7f\"> 73.80% </span>│<span style=\"color: #bf7f7f; text-decoration-color: #bf7f7f\"> 96.30% </span>│<span style=\"color: #bf7f7f; text-decoration-color: #bf7f7f\"> 88.37% </span>│<span style=\"color: #bf7fbf; text-decoration-color: #bf7fbf\"> 41.17% </span>│<span style=\"color: #bf7fbf; text-decoration-color: #bf7fbf\"> 68.88% </span>│<span style=\"color: #bf7fbf; text-decoration-color: #bf7fbf\"> 80.77% </span>│<span style=\"color: #7f7fbf; text-decoration-color: #7f7fbf\"> 48.95% </span>│<span style=\"color: #7f7fbf; text-decoration-color: #7f7fbf\"> 73.8… </span>│<span style=\"color: #7f7fbf; text-decoration-color: #7f7fbf\"> 73.80% </span>│<span style=\"color: #7fbf7f; text-decoration-color: #7fbf7f\"> 63.8… </span>│<span style=\"color: #7fbf7f; text-decoration-color: #7fbf7f\"> 74.57% </span>│<span style=\"color: #7fbf7f; text-decoration-color: #7fbf7f\"> 84.0… </span>│\n",
       "│ letter │<span style=\"color: #800000; text-decoration-color: #800000\"> 50.39% </span>│<span style=\"color: #800000; text-decoration-color: #800000\"> 87.33% </span>│<span style=\"color: #800000; text-decoration-color: #800000\"> 54.07% </span>│<span style=\"color: #800080; text-decoration-color: #800080\"> 42.99% </span>│<span style=\"color: #800080; text-decoration-color: #800080\"> 64.65% </span>│<span style=\"color: #800080; text-decoration-color: #800080\"> 72.12% </span>│<span style=\"color: #000080; text-decoration-color: #000080\"> 38.48% </span>│<span style=\"color: #000080; text-decoration-color: #000080\"> 50.3… </span>│<span style=\"color: #000080; text-decoration-color: #000080\"> 50.39% </span>│<span style=\"color: #008000; text-decoration-color: #008000\"> 49.8… </span>│<span style=\"color: #008000; text-decoration-color: #008000\"> 70.77% </span>│<span style=\"color: #008000; text-decoration-color: #008000\"> 77.5… </span>│\n",
       "│<span style=\"color: #7f7f7f; text-decoration-color: #7f7f7f\"> maneu… </span>│<span style=\"color: #bf7f7f; text-decoration-color: #bf7f7f\"> 71.53% </span>│<span style=\"color: #bf7f7f; text-decoration-color: #bf7f7f\"> 91.86% </span>│<span style=\"color: #bf7f7f; text-decoration-color: #bf7f7f\"> 77.10% </span>│<span style=\"color: #bf7fbf; text-decoration-color: #bf7fbf\"> 67.27% </span>│<span style=\"color: #bf7fbf; text-decoration-color: #bf7fbf\"> 75.45% </span>│<span style=\"color: #bf7fbf; text-decoration-color: #bf7fbf\"> 100.0… </span>│<span style=\"color: #7f7fbf; text-decoration-color: #7f7fbf\"> 70.12% </span>│<span style=\"color: #7f7fbf; text-decoration-color: #7f7fbf\"> 71.5… </span>│<span style=\"color: #7f7fbf; text-decoration-color: #7f7fbf\"> 71.53% </span>│<span style=\"color: #7fbf7f; text-decoration-color: #7fbf7f\"> 69.4… </span>│<span style=\"color: #7fbf7f; text-decoration-color: #7fbf7f\"> 78.67% </span>│<span style=\"color: #7fbf7f; text-decoration-color: #7fbf7f\"> 100.… </span>│\n",
       "│ miles… │<span style=\"color: #800000; text-decoration-color: #800000\"> 59.48% </span>│<span style=\"color: #800000; text-decoration-color: #800000\"> 93.11% </span>│<span style=\"color: #800000; text-decoration-color: #800000\"> 66.76% </span>│<span style=\"color: #800080; text-decoration-color: #800080\"> 41.89% </span>│<span style=\"color: #800080; text-decoration-color: #800080\"> 60.76% </span>│<span style=\"color: #800080; text-decoration-color: #800080\"> 65.61% </span>│<span style=\"color: #000080; text-decoration-color: #000080\"> 59.26% </span>│<span style=\"color: #000080; text-decoration-color: #000080\"> 59.4… </span>│<span style=\"color: #000080; text-decoration-color: #000080\"> 59.48% </span>│<span style=\"color: #008000; text-decoration-color: #008000\"> 51.2… </span>│<span style=\"color: #008000; text-decoration-color: #008000\"> 66.89% </span>│<span style=\"color: #008000; text-decoration-color: #008000\"> 71.5… </span>│\n",
       "│<span style=\"color: #7f7f7f; text-decoration-color: #7f7f7f\"> motor… </span>│<span style=\"color: #bf7f7f; text-decoration-color: #bf7f7f\"> 42.08% </span>│<span style=\"color: #bf7f7f; text-decoration-color: #bf7f7f\"> 61.44% </span>│<span style=\"color: #bf7f7f; text-decoration-color: #bf7f7f\"> 48.50% </span>│<span style=\"color: #bf7fbf; text-decoration-color: #bf7fbf\"> 18.21% </span>│<span style=\"color: #bf7fbf; text-decoration-color: #bf7fbf\"> 28.92% </span>│<span style=\"color: #bf7fbf; text-decoration-color: #bf7fbf\"> 50.04% </span>│<span style=\"color: #7f7fbf; text-decoration-color: #7f7fbf\"> 27.88% </span>│<span style=\"color: #7f7fbf; text-decoration-color: #7f7fbf\"> 41.9… </span>│<span style=\"color: #7f7fbf; text-decoration-color: #7f7fbf\"> 42.08% </span>│<span style=\"color: #7fbf7f; text-decoration-color: #7fbf7f\"> 22.8… </span>│<span style=\"color: #7fbf7f; text-decoration-color: #7fbf7f\"> 33.64% </span>│<span style=\"color: #7fbf7f; text-decoration-color: #7fbf7f\"> 53.5… </span>│\n",
       "│ person │<span style=\"color: #800000; text-decoration-color: #800000\"> 41.47% </span>│<span style=\"color: #800000; text-decoration-color: #800000\"> 64.05% </span>│<span style=\"color: #800000; text-decoration-color: #800000\"> 46.90% </span>│<span style=\"color: #800080; text-decoration-color: #800080\"> 27.10% </span>│<span style=\"color: #800080; text-decoration-color: #800080\"> 37.65% </span>│<span style=\"color: #800080; text-decoration-color: #800080\"> 51.92% </span>│<span style=\"color: #000080; text-decoration-color: #000080\"> 15.80% </span>│<span style=\"color: #000080; text-decoration-color: #000080\"> 39.2… </span>│<span style=\"color: #000080; text-decoration-color: #000080\"> 41.47% </span>│<span style=\"color: #008000; text-decoration-color: #008000\"> 34.7… </span>│<span style=\"color: #008000; text-decoration-color: #008000\"> 42.81% </span>│<span style=\"color: #008000; text-decoration-color: #008000\"> 56.3… </span>│\n",
       "│<span style=\"color: #7f7f7f; text-decoration-color: #7f7f7f\"> pillar </span>│<span style=\"color: #bf7f7f; text-decoration-color: #bf7f7f\"> 51.60% </span>│<span style=\"color: #bf7f7f; text-decoration-color: #bf7f7f\"> 91.10% </span>│<span style=\"color: #bf7f7f; text-decoration-color: #bf7f7f\"> 52.54% </span>│<span style=\"color: #bf7fbf; text-decoration-color: #bf7fbf\"> 46.92% </span>│<span style=\"color: #bf7fbf; text-decoration-color: #bf7fbf\"> 65.98% </span>│<span style=\"color: #bf7fbf; text-decoration-color: #bf7fbf\"> 65.21% </span>│<span style=\"color: #7f7fbf; text-decoration-color: #7f7fbf\"> 31.84% </span>│<span style=\"color: #7f7fbf; text-decoration-color: #7f7fbf\"> 51.5… </span>│<span style=\"color: #7f7fbf; text-decoration-color: #7f7fbf\"> 51.60% </span>│<span style=\"color: #7fbf7f; text-decoration-color: #7fbf7f\"> 53.7… </span>│<span style=\"color: #7fbf7f; text-decoration-color: #7fbf7f\"> 72.95% </span>│<span style=\"color: #7fbf7f; text-decoration-color: #7fbf7f\"> 72.5… </span>│\n",
       "│ sign   │<span style=\"color: #800000; text-decoration-color: #800000\"> 52.46% </span>│<span style=\"color: #800000; text-decoration-color: #800000\"> 79.15% </span>│<span style=\"color: #800000; text-decoration-color: #800000\"> 62.59% </span>│<span style=\"color: #800080; text-decoration-color: #800080\"> 47.24% </span>│<span style=\"color: #800080; text-decoration-color: #800080\"> 68.06% </span>│<span style=\"color: #800080; text-decoration-color: #800080\"> 45.45% </span>│<span style=\"color: #000080; text-decoration-color: #000080\"> 49.83% </span>│<span style=\"color: #000080; text-decoration-color: #000080\"> 52.4… </span>│<span style=\"color: #000080; text-decoration-color: #000080\"> 52.46% </span>│<span style=\"color: #008000; text-decoration-color: #008000\"> 53.0… </span>│<span style=\"color: #008000; text-decoration-color: #008000\"> 70.56% </span>│<span style=\"color: #008000; text-decoration-color: #008000\"> 45.0… </span>│\n",
       "│<span style=\"color: #7f7f7f; text-decoration-color: #7f7f7f\"> sound… </span>│<span style=\"color: #bf7f7f; text-decoration-color: #bf7f7f\"> 73.70% </span>│<span style=\"color: #bf7f7f; text-decoration-color: #bf7f7f\"> 96.52% </span>│<span style=\"color: #bf7f7f; text-decoration-color: #bf7f7f\"> 90.24% </span>│<span style=\"color: #bf7fbf; text-decoration-color: #bf7fbf\"> 67.81% </span>│<span style=\"color: #bf7fbf; text-decoration-color: #bf7fbf\"> 77.51% </span>│<span style=\"color: #bf7fbf; text-decoration-color: #bf7fbf\"> 83.80% </span>│<span style=\"color: #7f7fbf; text-decoration-color: #7f7fbf\"> 57.09% </span>│<span style=\"color: #7f7fbf; text-decoration-color: #7f7fbf\"> 73.7… </span>│<span style=\"color: #7f7fbf; text-decoration-color: #7f7fbf\"> 73.70% </span>│<span style=\"color: #7fbf7f; text-decoration-color: #7fbf7f\"> 73.2… </span>│<span style=\"color: #7fbf7f; text-decoration-color: #7fbf7f\"> 81.69% </span>│<span style=\"color: #7fbf7f; text-decoration-color: #7fbf7f\"> 87.9… </span>│\n",
       "│ tflig… │<span style=\"color: #800000; text-decoration-color: #800000\"> 53.91% </span>│<span style=\"color: #800000; text-decoration-color: #800000\"> 86.58% </span>│<span style=\"color: #800000; text-decoration-color: #800000\"> 58.72% </span>│<span style=\"color: #800080; text-decoration-color: #800080\"> 45.38% </span>│<span style=\"color: #800080; text-decoration-color: #800080\"> 66.58% </span>│<span style=\"color: #800080; text-decoration-color: #800080\"> 69.33% </span>│<span style=\"color: #000080; text-decoration-color: #000080\"> 23.68% </span>│<span style=\"color: #000080; text-decoration-color: #000080\"> 53.2… </span>│<span style=\"color: #000080; text-decoration-color: #000080\"> 53.91% </span>│<span style=\"color: #008000; text-decoration-color: #008000\"> 52.1… </span>│<span style=\"color: #008000; text-decoration-color: #008000\"> 71.34% </span>│<span style=\"color: #008000; text-decoration-color: #008000\"> 73.5… </span>│\n",
       "│<span style=\"color: #7f7f7f; text-decoration-color: #7f7f7f\"> train  </span>│<span style=\"color: #bf7f7f; text-decoration-color: #bf7f7f\"> 51.04% </span>│<span style=\"color: #bf7f7f; text-decoration-color: #bf7f7f\"> 70.57% </span>│<span style=\"color: #bf7f7f; text-decoration-color: #bf7f7f\"> 56.21% </span>│<span style=\"color: #bf7fbf; text-decoration-color: #bf7fbf\"> 42.13% </span>│<span style=\"color: #bf7fbf; text-decoration-color: #bf7fbf\"> 43.34% </span>│<span style=\"color: #bf7fbf; text-decoration-color: #bf7fbf\"> 53.49% </span>│<span style=\"color: #7f7fbf; text-decoration-color: #7f7fbf\"> 32.32% </span>│<span style=\"color: #7f7fbf; text-decoration-color: #7f7fbf\"> 51.0… </span>│<span style=\"color: #7f7fbf; text-decoration-color: #7f7fbf\"> 51.04% </span>│<span style=\"color: #7fbf7f; text-decoration-color: #7fbf7f\"> 52.3… </span>│<span style=\"color: #7fbf7f; text-decoration-color: #7fbf7f\"> 50.64% </span>│<span style=\"color: #7fbf7f; text-decoration-color: #7fbf7f\"> 58.9… </span>│\n",
       "│ worker │<span style=\"color: #800000; text-decoration-color: #800000\"> 61.77% </span>│<span style=\"color: #800000; text-decoration-color: #800000\"> 85.75% </span>│<span style=\"color: #800000; text-decoration-color: #800000\"> 70.84% </span>│<span style=\"color: #800080; text-decoration-color: #800080\"> 38.56% </span>│<span style=\"color: #800080; text-decoration-color: #800080\"> 55.23% </span>│<span style=\"color: #800080; text-decoration-color: #800080\"> 72.46% </span>│<span style=\"color: #000080; text-decoration-color: #000080\"> 47.26% </span>│<span style=\"color: #000080; text-decoration-color: #000080\"> 61.7… </span>│<span style=\"color: #000080; text-decoration-color: #000080\"> 61.77% </span>│<span style=\"color: #008000; text-decoration-color: #008000\"> 48.4… </span>│<span style=\"color: #008000; text-decoration-color: #008000\"> 61.44% </span>│<span style=\"color: #008000; text-decoration-color: #008000\"> 76.3… </span>│\n",
       "├────────┼────────┼────────┼────────┼────────┼────────┼────────┼────────┼───────┼────────┼───────┼────────┼───────┤\n",
       "│<span style=\"font-weight: bold\"> Total  </span>│<span style=\"color: #800000; text-decoration-color: #800000; font-weight: bold\"> 56.53% </span>│<span style=\"color: #800000; text-decoration-color: #800000; font-weight: bold\"> 82.56% </span>│<span style=\"color: #800000; text-decoration-color: #800000; font-weight: bold\"> 64.41% </span>│<span style=\"color: #800080; text-decoration-color: #800080; font-weight: bold\"> 42.80% </span>│<span style=\"color: #800080; text-decoration-color: #800080; font-weight: bold\"> 59.07% </span>│<span style=\"color: #800080; text-decoration-color: #800080; font-weight: bold\"> 66.91% </span>│<span style=\"color: #000080; text-decoration-color: #000080; font-weight: bold\"> 43.66% </span>│<span style=\"color: #000080; text-decoration-color: #000080; font-weight: bold\"> 60.7… </span>│<span style=\"color: #000080; text-decoration-color: #000080; font-weight: bold\"> 61.06% </span>│<span style=\"color: #008000; text-decoration-color: #008000; font-weight: bold\"> 50.4… </span>│<span style=\"color: #008000; text-decoration-color: #008000; font-weight: bold\"> 64.04% </span>│<span style=\"color: #008000; text-decoration-color: #008000; font-weight: bold\"> 70.5… </span>│\n",
       "└────────┴────────┴────────┴────────┴────────┴────────┴────────┴────────┴───────┴────────┴───────┴────────┴───────┘\n",
       "</pre>\n"
      ],
      "text/plain": [
       "\u001b[3m                                                  COCO Evaluation                                                  \u001b[0m\n",
       "┏━━━━━━━━┳━━━━━━━━┳━━━━━━━━┳━━━━━━━━┳━━━━━━━━┳━━━━━━━━┳━━━━━━━━┳━━━━━━━━┳━━━━━━━┳━━━━━━━━┳━━━━━━━┳━━━━━━━━┳━━━━━━━┓\n",
       "┃\u001b[1m        \u001b[0m┃\u001b[1;31m \u001b[0m\u001b[1;31m    AP\u001b[0m\u001b[1;31m \u001b[0m┃\u001b[1;31m        \u001b[0m┃\u001b[1;31m        \u001b[0m┃\u001b[1;35m        \u001b[0m┃\u001b[1;35m        \u001b[0m┃\u001b[1;35m        \u001b[0m┃\u001b[1;34m        \u001b[0m┃\u001b[1;34m       \u001b[0m┃\u001b[1;34m        \u001b[0m┃\u001b[1;32m       \u001b[0m┃\u001b[1;32m        \u001b[0m┃\u001b[1;32m       \u001b[0m┃\n",
       "┃\u001b[1m \u001b[0m\u001b[1mLabel \u001b[0m\u001b[1m \u001b[0m┃\u001b[1;31m \u001b[0m\u001b[1;31m 50:95\u001b[0m\u001b[1;31m \u001b[0m┃\u001b[1;31m \u001b[0m\u001b[1;31m AP 50\u001b[0m\u001b[1;31m \u001b[0m┃\u001b[1;31m \u001b[0m\u001b[1;31m AP 75\u001b[0m\u001b[1;31m \u001b[0m┃\u001b[1;35m \u001b[0m\u001b[1;35m  AP S\u001b[0m\u001b[1;35m \u001b[0m┃\u001b[1;35m \u001b[0m\u001b[1;35m  AP M\u001b[0m\u001b[1;35m \u001b[0m┃\u001b[1;35m \u001b[0m\u001b[1;35m  AP L\u001b[0m\u001b[1;35m \u001b[0m┃\u001b[1;34m \u001b[0m\u001b[1;34m  AR 1\u001b[0m\u001b[1;34m \u001b[0m┃\u001b[1;34m \u001b[0m\u001b[1;34mAR 10\u001b[0m\u001b[1;34m \u001b[0m┃\u001b[1;34m \u001b[0m\u001b[1;34mAR 100\u001b[0m\u001b[1;34m \u001b[0m┃\u001b[1;32m \u001b[0m\u001b[1;32m AR S\u001b[0m\u001b[1;32m \u001b[0m┃\u001b[1;32m \u001b[0m\u001b[1;32m  AR M\u001b[0m\u001b[1;32m \u001b[0m┃\u001b[1;32m \u001b[0m\u001b[1;32m AR L\u001b[0m\u001b[1;32m \u001b[0m┃\n",
       "┡━━━━━━━━╇━━━━━━━━╇━━━━━━━━╇━━━━━━━━╇━━━━━━━━╇━━━━━━━━╇━━━━━━━━╇━━━━━━━━╇━━━━━━━╇━━━━━━━━╇━━━━━━━╇━━━━━━━━╇━━━━━━━┩\n",
       "│ bicyc… │\u001b[31m \u001b[0m\u001b[31m38.31%\u001b[0m\u001b[31m \u001b[0m│\u001b[31m \u001b[0m\u001b[31m58.77%\u001b[0m\u001b[31m \u001b[0m│\u001b[31m \u001b[0m\u001b[31m42.35%\u001b[0m\u001b[31m \u001b[0m│\u001b[35m \u001b[0m\u001b[35m21.01%\u001b[0m\u001b[35m \u001b[0m│\u001b[35m \u001b[0m\u001b[35m29.30%\u001b[0m\u001b[35m \u001b[0m│\u001b[35m \u001b[0m\u001b[35m47.54%\u001b[0m\u001b[35m \u001b[0m│\u001b[34m \u001b[0m\u001b[34m22.26%\u001b[0m\u001b[34m \u001b[0m│\u001b[34m \u001b[0m\u001b[34m37.9…\u001b[0m\u001b[34m \u001b[0m│\u001b[34m \u001b[0m\u001b[34m38.31%\u001b[0m\u001b[34m \u001b[0m│\u001b[32m \u001b[0m\u001b[32m28.0…\u001b[0m\u001b[32m \u001b[0m│\u001b[32m \u001b[0m\u001b[32m34.58%\u001b[0m\u001b[32m \u001b[0m│\u001b[32m \u001b[0m\u001b[32m50.2…\u001b[0m\u001b[32m \u001b[0m│\n",
       "│\u001b[2m \u001b[0m\u001b[2mcar   \u001b[0m\u001b[2m \u001b[0m│\u001b[2;31m \u001b[0m\u001b[2;31m50.80%\u001b[0m\u001b[2;31m \u001b[0m│\u001b[2;31m \u001b[0m\u001b[2;31m68.00%\u001b[0m\u001b[2;31m \u001b[0m│\u001b[2;31m \u001b[0m\u001b[2;31m58.07%\u001b[0m\u001b[2;31m \u001b[0m│\u001b[2;35m \u001b[0m\u001b[2;35m39.04%\u001b[0m\u001b[2;35m \u001b[0m│\u001b[2;35m \u001b[0m\u001b[2;35m44.86%\u001b[0m\u001b[2;35m \u001b[0m│\u001b[2;35m \u001b[0m\u001b[2;35m61.32%\u001b[0m\u001b[2;35m \u001b[0m│\u001b[2;34m \u001b[0m\u001b[2;34m21.04%\u001b[0m\u001b[2;34m \u001b[0m│\u001b[2;34m \u001b[0m\u001b[2;34m50.5…\u001b[0m\u001b[2;34m \u001b[0m│\u001b[2;34m \u001b[0m\u001b[2;34m50.80%\u001b[0m\u001b[2;34m \u001b[0m│\u001b[2;32m \u001b[0m\u001b[2;32m44.8…\u001b[0m\u001b[2;32m \u001b[0m│\u001b[2;32m \u001b[0m\u001b[2;32m49.36%\u001b[0m\u001b[2;32m \u001b[0m│\u001b[2;32m \u001b[0m\u001b[2;32m64.1…\u001b[0m\u001b[2;32m \u001b[0m│\n",
       "│ dead_… │\u001b[31m \u001b[0m\u001b[31m58.12%\u001b[0m\u001b[31m \u001b[0m│\u001b[31m \u001b[0m\u001b[31m90.49%\u001b[0m\u001b[31m \u001b[0m│\u001b[31m \u001b[0m\u001b[31m65.60%\u001b[0m\u001b[31m \u001b[0m│\u001b[35m \u001b[0m\u001b[35m54.83%\u001b[0m\u001b[35m \u001b[0m│\u001b[35m \u001b[0m\u001b[35m77.21%\u001b[0m\u001b[35m \u001b[0m│\u001b[35m \u001b[0m\u001b[35m  nan%\u001b[0m\u001b[35m \u001b[0m│\u001b[34m \u001b[0m\u001b[34m56.27%\u001b[0m\u001b[34m \u001b[0m│\u001b[34m \u001b[0m\u001b[34m58.1…\u001b[0m\u001b[34m \u001b[0m│\u001b[34m \u001b[0m\u001b[34m58.12%\u001b[0m\u001b[34m \u001b[0m│\u001b[32m \u001b[0m\u001b[32m60.6…\u001b[0m\u001b[32m \u001b[0m│\u001b[32m \u001b[0m\u001b[32m80.00%\u001b[0m\u001b[32m \u001b[0m│\u001b[32m \u001b[0m\u001b[32m nan%\u001b[0m\u001b[32m \u001b[0m│\n",
       "│\u001b[2m \u001b[0m\u001b[2mderail\u001b[0m\u001b[2m \u001b[0m│\u001b[2;31m \u001b[0m\u001b[2;31m56.94%\u001b[0m\u001b[2;31m \u001b[0m│\u001b[2;31m \u001b[0m\u001b[2;31m86.65%\u001b[0m\u001b[2;31m \u001b[0m│\u001b[2;31m \u001b[0m\u001b[2;31m67.87%\u001b[0m\u001b[2;31m \u001b[0m│\u001b[2;35m \u001b[0m\u001b[2;35m36.07%\u001b[0m\u001b[2;35m \u001b[0m│\u001b[2;35m \u001b[0m\u001b[2;35m69.94%\u001b[0m\u001b[2;35m \u001b[0m│\u001b[2;35m \u001b[0m\u001b[2;35m68.78%\u001b[0m\u001b[2;35m \u001b[0m│\u001b[2;34m \u001b[0m\u001b[2;34m43.64%\u001b[0m\u001b[2;34m \u001b[0m│\u001b[2;34m \u001b[0m\u001b[2;34m56.9…\u001b[0m\u001b[2;34m \u001b[0m│\u001b[2;34m \u001b[0m\u001b[2;34m56.94%\u001b[0m\u001b[2;34m \u001b[0m│\u001b[2;32m \u001b[0m\u001b[2;32m39.4…\u001b[0m\u001b[2;32m \u001b[0m│\u001b[2;32m \u001b[0m\u001b[2;32m74.50%\u001b[0m\u001b[2;32m \u001b[0m│\u001b[2;32m \u001b[0m\u001b[2;32m72.4…\u001b[0m\u001b[2;32m \u001b[0m│\n",
       "│ hand_… │\u001b[31m \u001b[0m\u001b[31m73.57%\u001b[0m\u001b[31m \u001b[0m│\u001b[31m \u001b[0m\u001b[31m95.88%\u001b[0m\u001b[31m \u001b[0m│\u001b[31m \u001b[0m\u001b[31m88.28%\u001b[0m\u001b[31m \u001b[0m│\u001b[35m \u001b[0m\u001b[35m49.97%\u001b[0m\u001b[35m \u001b[0m│\u001b[35m \u001b[0m\u001b[35m69.87%\u001b[0m\u001b[35m \u001b[0m│\u001b[35m \u001b[0m\u001b[35m82.71%\u001b[0m\u001b[35m \u001b[0m│\u001b[34m \u001b[0m\u001b[34m51.23%\u001b[0m\u001b[34m \u001b[0m│\u001b[34m \u001b[0m\u001b[34m73.5…\u001b[0m\u001b[34m \u001b[0m│\u001b[34m \u001b[0m\u001b[34m73.57%\u001b[0m\u001b[34m \u001b[0m│\u001b[32m \u001b[0m\u001b[32m59.1…\u001b[0m\u001b[32m \u001b[0m│\u001b[32m \u001b[0m\u001b[32m74.21%\u001b[0m\u001b[32m \u001b[0m│\u001b[32m \u001b[0m\u001b[32m85.2…\u001b[0m\u001b[32m \u001b[0m│\n",
       "│\u001b[2m \u001b[0m\u001b[2mhand_…\u001b[0m\u001b[2m \u001b[0m│\u001b[2;31m \u001b[0m\u001b[2;31m73.80%\u001b[0m\u001b[2;31m \u001b[0m│\u001b[2;31m \u001b[0m\u001b[2;31m96.30%\u001b[0m\u001b[2;31m \u001b[0m│\u001b[2;31m \u001b[0m\u001b[2;31m88.37%\u001b[0m\u001b[2;31m \u001b[0m│\u001b[2;35m \u001b[0m\u001b[2;35m41.17%\u001b[0m\u001b[2;35m \u001b[0m│\u001b[2;35m \u001b[0m\u001b[2;35m68.88%\u001b[0m\u001b[2;35m \u001b[0m│\u001b[2;35m \u001b[0m\u001b[2;35m80.77%\u001b[0m\u001b[2;35m \u001b[0m│\u001b[2;34m \u001b[0m\u001b[2;34m48.95%\u001b[0m\u001b[2;34m \u001b[0m│\u001b[2;34m \u001b[0m\u001b[2;34m73.8…\u001b[0m\u001b[2;34m \u001b[0m│\u001b[2;34m \u001b[0m\u001b[2;34m73.80%\u001b[0m\u001b[2;34m \u001b[0m│\u001b[2;32m \u001b[0m\u001b[2;32m63.8…\u001b[0m\u001b[2;32m \u001b[0m│\u001b[2;32m \u001b[0m\u001b[2;32m74.57%\u001b[0m\u001b[2;32m \u001b[0m│\u001b[2;32m \u001b[0m\u001b[2;32m84.0…\u001b[0m\u001b[2;32m \u001b[0m│\n",
       "│ letter │\u001b[31m \u001b[0m\u001b[31m50.39%\u001b[0m\u001b[31m \u001b[0m│\u001b[31m \u001b[0m\u001b[31m87.33%\u001b[0m\u001b[31m \u001b[0m│\u001b[31m \u001b[0m\u001b[31m54.07%\u001b[0m\u001b[31m \u001b[0m│\u001b[35m \u001b[0m\u001b[35m42.99%\u001b[0m\u001b[35m \u001b[0m│\u001b[35m \u001b[0m\u001b[35m64.65%\u001b[0m\u001b[35m \u001b[0m│\u001b[35m \u001b[0m\u001b[35m72.12%\u001b[0m\u001b[35m \u001b[0m│\u001b[34m \u001b[0m\u001b[34m38.48%\u001b[0m\u001b[34m \u001b[0m│\u001b[34m \u001b[0m\u001b[34m50.3…\u001b[0m\u001b[34m \u001b[0m│\u001b[34m \u001b[0m\u001b[34m50.39%\u001b[0m\u001b[34m \u001b[0m│\u001b[32m \u001b[0m\u001b[32m49.8…\u001b[0m\u001b[32m \u001b[0m│\u001b[32m \u001b[0m\u001b[32m70.77%\u001b[0m\u001b[32m \u001b[0m│\u001b[32m \u001b[0m\u001b[32m77.5…\u001b[0m\u001b[32m \u001b[0m│\n",
       "│\u001b[2m \u001b[0m\u001b[2mmaneu…\u001b[0m\u001b[2m \u001b[0m│\u001b[2;31m \u001b[0m\u001b[2;31m71.53%\u001b[0m\u001b[2;31m \u001b[0m│\u001b[2;31m \u001b[0m\u001b[2;31m91.86%\u001b[0m\u001b[2;31m \u001b[0m│\u001b[2;31m \u001b[0m\u001b[2;31m77.10%\u001b[0m\u001b[2;31m \u001b[0m│\u001b[2;35m \u001b[0m\u001b[2;35m67.27%\u001b[0m\u001b[2;35m \u001b[0m│\u001b[2;35m \u001b[0m\u001b[2;35m75.45%\u001b[0m\u001b[2;35m \u001b[0m│\u001b[2;35m \u001b[0m\u001b[2;35m100.0…\u001b[0m\u001b[2;35m \u001b[0m│\u001b[2;34m \u001b[0m\u001b[2;34m70.12%\u001b[0m\u001b[2;34m \u001b[0m│\u001b[2;34m \u001b[0m\u001b[2;34m71.5…\u001b[0m\u001b[2;34m \u001b[0m│\u001b[2;34m \u001b[0m\u001b[2;34m71.53%\u001b[0m\u001b[2;34m \u001b[0m│\u001b[2;32m \u001b[0m\u001b[2;32m69.4…\u001b[0m\u001b[2;32m \u001b[0m│\u001b[2;32m \u001b[0m\u001b[2;32m78.67%\u001b[0m\u001b[2;32m \u001b[0m│\u001b[2;32m \u001b[0m\u001b[2;32m100.…\u001b[0m\u001b[2;32m \u001b[0m│\n",
       "│ miles… │\u001b[31m \u001b[0m\u001b[31m59.48%\u001b[0m\u001b[31m \u001b[0m│\u001b[31m \u001b[0m\u001b[31m93.11%\u001b[0m\u001b[31m \u001b[0m│\u001b[31m \u001b[0m\u001b[31m66.76%\u001b[0m\u001b[31m \u001b[0m│\u001b[35m \u001b[0m\u001b[35m41.89%\u001b[0m\u001b[35m \u001b[0m│\u001b[35m \u001b[0m\u001b[35m60.76%\u001b[0m\u001b[35m \u001b[0m│\u001b[35m \u001b[0m\u001b[35m65.61%\u001b[0m\u001b[35m \u001b[0m│\u001b[34m \u001b[0m\u001b[34m59.26%\u001b[0m\u001b[34m \u001b[0m│\u001b[34m \u001b[0m\u001b[34m59.4…\u001b[0m\u001b[34m \u001b[0m│\u001b[34m \u001b[0m\u001b[34m59.48%\u001b[0m\u001b[34m \u001b[0m│\u001b[32m \u001b[0m\u001b[32m51.2…\u001b[0m\u001b[32m \u001b[0m│\u001b[32m \u001b[0m\u001b[32m66.89%\u001b[0m\u001b[32m \u001b[0m│\u001b[32m \u001b[0m\u001b[32m71.5…\u001b[0m\u001b[32m \u001b[0m│\n",
       "│\u001b[2m \u001b[0m\u001b[2mmotor…\u001b[0m\u001b[2m \u001b[0m│\u001b[2;31m \u001b[0m\u001b[2;31m42.08%\u001b[0m\u001b[2;31m \u001b[0m│\u001b[2;31m \u001b[0m\u001b[2;31m61.44%\u001b[0m\u001b[2;31m \u001b[0m│\u001b[2;31m \u001b[0m\u001b[2;31m48.50%\u001b[0m\u001b[2;31m \u001b[0m│\u001b[2;35m \u001b[0m\u001b[2;35m18.21%\u001b[0m\u001b[2;35m \u001b[0m│\u001b[2;35m \u001b[0m\u001b[2;35m28.92%\u001b[0m\u001b[2;35m \u001b[0m│\u001b[2;35m \u001b[0m\u001b[2;35m50.04%\u001b[0m\u001b[2;35m \u001b[0m│\u001b[2;34m \u001b[0m\u001b[2;34m27.88%\u001b[0m\u001b[2;34m \u001b[0m│\u001b[2;34m \u001b[0m\u001b[2;34m41.9…\u001b[0m\u001b[2;34m \u001b[0m│\u001b[2;34m \u001b[0m\u001b[2;34m42.08%\u001b[0m\u001b[2;34m \u001b[0m│\u001b[2;32m \u001b[0m\u001b[2;32m22.8…\u001b[0m\u001b[2;32m \u001b[0m│\u001b[2;32m \u001b[0m\u001b[2;32m33.64%\u001b[0m\u001b[2;32m \u001b[0m│\u001b[2;32m \u001b[0m\u001b[2;32m53.5…\u001b[0m\u001b[2;32m \u001b[0m│\n",
       "│ person │\u001b[31m \u001b[0m\u001b[31m41.47%\u001b[0m\u001b[31m \u001b[0m│\u001b[31m \u001b[0m\u001b[31m64.05%\u001b[0m\u001b[31m \u001b[0m│\u001b[31m \u001b[0m\u001b[31m46.90%\u001b[0m\u001b[31m \u001b[0m│\u001b[35m \u001b[0m\u001b[35m27.10%\u001b[0m\u001b[35m \u001b[0m│\u001b[35m \u001b[0m\u001b[35m37.65%\u001b[0m\u001b[35m \u001b[0m│\u001b[35m \u001b[0m\u001b[35m51.92%\u001b[0m\u001b[35m \u001b[0m│\u001b[34m \u001b[0m\u001b[34m15.80%\u001b[0m\u001b[34m \u001b[0m│\u001b[34m \u001b[0m\u001b[34m39.2…\u001b[0m\u001b[34m \u001b[0m│\u001b[34m \u001b[0m\u001b[34m41.47%\u001b[0m\u001b[34m \u001b[0m│\u001b[32m \u001b[0m\u001b[32m34.7…\u001b[0m\u001b[32m \u001b[0m│\u001b[32m \u001b[0m\u001b[32m42.81%\u001b[0m\u001b[32m \u001b[0m│\u001b[32m \u001b[0m\u001b[32m56.3…\u001b[0m\u001b[32m \u001b[0m│\n",
       "│\u001b[2m \u001b[0m\u001b[2mpillar\u001b[0m\u001b[2m \u001b[0m│\u001b[2;31m \u001b[0m\u001b[2;31m51.60%\u001b[0m\u001b[2;31m \u001b[0m│\u001b[2;31m \u001b[0m\u001b[2;31m91.10%\u001b[0m\u001b[2;31m \u001b[0m│\u001b[2;31m \u001b[0m\u001b[2;31m52.54%\u001b[0m\u001b[2;31m \u001b[0m│\u001b[2;35m \u001b[0m\u001b[2;35m46.92%\u001b[0m\u001b[2;35m \u001b[0m│\u001b[2;35m \u001b[0m\u001b[2;35m65.98%\u001b[0m\u001b[2;35m \u001b[0m│\u001b[2;35m \u001b[0m\u001b[2;35m65.21%\u001b[0m\u001b[2;35m \u001b[0m│\u001b[2;34m \u001b[0m\u001b[2;34m31.84%\u001b[0m\u001b[2;34m \u001b[0m│\u001b[2;34m \u001b[0m\u001b[2;34m51.5…\u001b[0m\u001b[2;34m \u001b[0m│\u001b[2;34m \u001b[0m\u001b[2;34m51.60%\u001b[0m\u001b[2;34m \u001b[0m│\u001b[2;32m \u001b[0m\u001b[2;32m53.7…\u001b[0m\u001b[2;32m \u001b[0m│\u001b[2;32m \u001b[0m\u001b[2;32m72.95%\u001b[0m\u001b[2;32m \u001b[0m│\u001b[2;32m \u001b[0m\u001b[2;32m72.5…\u001b[0m\u001b[2;32m \u001b[0m│\n",
       "│ sign   │\u001b[31m \u001b[0m\u001b[31m52.46%\u001b[0m\u001b[31m \u001b[0m│\u001b[31m \u001b[0m\u001b[31m79.15%\u001b[0m\u001b[31m \u001b[0m│\u001b[31m \u001b[0m\u001b[31m62.59%\u001b[0m\u001b[31m \u001b[0m│\u001b[35m \u001b[0m\u001b[35m47.24%\u001b[0m\u001b[35m \u001b[0m│\u001b[35m \u001b[0m\u001b[35m68.06%\u001b[0m\u001b[35m \u001b[0m│\u001b[35m \u001b[0m\u001b[35m45.45%\u001b[0m\u001b[35m \u001b[0m│\u001b[34m \u001b[0m\u001b[34m49.83%\u001b[0m\u001b[34m \u001b[0m│\u001b[34m \u001b[0m\u001b[34m52.4…\u001b[0m\u001b[34m \u001b[0m│\u001b[34m \u001b[0m\u001b[34m52.46%\u001b[0m\u001b[34m \u001b[0m│\u001b[32m \u001b[0m\u001b[32m53.0…\u001b[0m\u001b[32m \u001b[0m│\u001b[32m \u001b[0m\u001b[32m70.56%\u001b[0m\u001b[32m \u001b[0m│\u001b[32m \u001b[0m\u001b[32m45.0…\u001b[0m\u001b[32m \u001b[0m│\n",
       "│\u001b[2m \u001b[0m\u001b[2msound…\u001b[0m\u001b[2m \u001b[0m│\u001b[2;31m \u001b[0m\u001b[2;31m73.70%\u001b[0m\u001b[2;31m \u001b[0m│\u001b[2;31m \u001b[0m\u001b[2;31m96.52%\u001b[0m\u001b[2;31m \u001b[0m│\u001b[2;31m \u001b[0m\u001b[2;31m90.24%\u001b[0m\u001b[2;31m \u001b[0m│\u001b[2;35m \u001b[0m\u001b[2;35m67.81%\u001b[0m\u001b[2;35m \u001b[0m│\u001b[2;35m \u001b[0m\u001b[2;35m77.51%\u001b[0m\u001b[2;35m \u001b[0m│\u001b[2;35m \u001b[0m\u001b[2;35m83.80%\u001b[0m\u001b[2;35m \u001b[0m│\u001b[2;34m \u001b[0m\u001b[2;34m57.09%\u001b[0m\u001b[2;34m \u001b[0m│\u001b[2;34m \u001b[0m\u001b[2;34m73.7…\u001b[0m\u001b[2;34m \u001b[0m│\u001b[2;34m \u001b[0m\u001b[2;34m73.70%\u001b[0m\u001b[2;34m \u001b[0m│\u001b[2;32m \u001b[0m\u001b[2;32m73.2…\u001b[0m\u001b[2;32m \u001b[0m│\u001b[2;32m \u001b[0m\u001b[2;32m81.69%\u001b[0m\u001b[2;32m \u001b[0m│\u001b[2;32m \u001b[0m\u001b[2;32m87.9…\u001b[0m\u001b[2;32m \u001b[0m│\n",
       "│ tflig… │\u001b[31m \u001b[0m\u001b[31m53.91%\u001b[0m\u001b[31m \u001b[0m│\u001b[31m \u001b[0m\u001b[31m86.58%\u001b[0m\u001b[31m \u001b[0m│\u001b[31m \u001b[0m\u001b[31m58.72%\u001b[0m\u001b[31m \u001b[0m│\u001b[35m \u001b[0m\u001b[35m45.38%\u001b[0m\u001b[35m \u001b[0m│\u001b[35m \u001b[0m\u001b[35m66.58%\u001b[0m\u001b[35m \u001b[0m│\u001b[35m \u001b[0m\u001b[35m69.33%\u001b[0m\u001b[35m \u001b[0m│\u001b[34m \u001b[0m\u001b[34m23.68%\u001b[0m\u001b[34m \u001b[0m│\u001b[34m \u001b[0m\u001b[34m53.2…\u001b[0m\u001b[34m \u001b[0m│\u001b[34m \u001b[0m\u001b[34m53.91%\u001b[0m\u001b[34m \u001b[0m│\u001b[32m \u001b[0m\u001b[32m52.1…\u001b[0m\u001b[32m \u001b[0m│\u001b[32m \u001b[0m\u001b[32m71.34%\u001b[0m\u001b[32m \u001b[0m│\u001b[32m \u001b[0m\u001b[32m73.5…\u001b[0m\u001b[32m \u001b[0m│\n",
       "│\u001b[2m \u001b[0m\u001b[2mtrain \u001b[0m\u001b[2m \u001b[0m│\u001b[2;31m \u001b[0m\u001b[2;31m51.04%\u001b[0m\u001b[2;31m \u001b[0m│\u001b[2;31m \u001b[0m\u001b[2;31m70.57%\u001b[0m\u001b[2;31m \u001b[0m│\u001b[2;31m \u001b[0m\u001b[2;31m56.21%\u001b[0m\u001b[2;31m \u001b[0m│\u001b[2;35m \u001b[0m\u001b[2;35m42.13%\u001b[0m\u001b[2;35m \u001b[0m│\u001b[2;35m \u001b[0m\u001b[2;35m43.34%\u001b[0m\u001b[2;35m \u001b[0m│\u001b[2;35m \u001b[0m\u001b[2;35m53.49%\u001b[0m\u001b[2;35m \u001b[0m│\u001b[2;34m \u001b[0m\u001b[2;34m32.32%\u001b[0m\u001b[2;34m \u001b[0m│\u001b[2;34m \u001b[0m\u001b[2;34m51.0…\u001b[0m\u001b[2;34m \u001b[0m│\u001b[2;34m \u001b[0m\u001b[2;34m51.04%\u001b[0m\u001b[2;34m \u001b[0m│\u001b[2;32m \u001b[0m\u001b[2;32m52.3…\u001b[0m\u001b[2;32m \u001b[0m│\u001b[2;32m \u001b[0m\u001b[2;32m50.64%\u001b[0m\u001b[2;32m \u001b[0m│\u001b[2;32m \u001b[0m\u001b[2;32m58.9…\u001b[0m\u001b[2;32m \u001b[0m│\n",
       "│ worker │\u001b[31m \u001b[0m\u001b[31m61.77%\u001b[0m\u001b[31m \u001b[0m│\u001b[31m \u001b[0m\u001b[31m85.75%\u001b[0m\u001b[31m \u001b[0m│\u001b[31m \u001b[0m\u001b[31m70.84%\u001b[0m\u001b[31m \u001b[0m│\u001b[35m \u001b[0m\u001b[35m38.56%\u001b[0m\u001b[35m \u001b[0m│\u001b[35m \u001b[0m\u001b[35m55.23%\u001b[0m\u001b[35m \u001b[0m│\u001b[35m \u001b[0m\u001b[35m72.46%\u001b[0m\u001b[35m \u001b[0m│\u001b[34m \u001b[0m\u001b[34m47.26%\u001b[0m\u001b[34m \u001b[0m│\u001b[34m \u001b[0m\u001b[34m61.7…\u001b[0m\u001b[34m \u001b[0m│\u001b[34m \u001b[0m\u001b[34m61.77%\u001b[0m\u001b[34m \u001b[0m│\u001b[32m \u001b[0m\u001b[32m48.4…\u001b[0m\u001b[32m \u001b[0m│\u001b[32m \u001b[0m\u001b[32m61.44%\u001b[0m\u001b[32m \u001b[0m│\u001b[32m \u001b[0m\u001b[32m76.3…\u001b[0m\u001b[32m \u001b[0m│\n",
       "├────────┼────────┼────────┼────────┼────────┼────────┼────────┼────────┼───────┼────────┼───────┼────────┼───────┤\n",
       "│\u001b[1m \u001b[0m\u001b[1mTotal \u001b[0m\u001b[1m \u001b[0m│\u001b[1;31m \u001b[0m\u001b[1;31m56.53%\u001b[0m\u001b[1;31m \u001b[0m│\u001b[1;31m \u001b[0m\u001b[1;31m82.56%\u001b[0m\u001b[1;31m \u001b[0m│\u001b[1;31m \u001b[0m\u001b[1;31m64.41%\u001b[0m\u001b[1;31m \u001b[0m│\u001b[1;35m \u001b[0m\u001b[1;35m42.80%\u001b[0m\u001b[1;35m \u001b[0m│\u001b[1;35m \u001b[0m\u001b[1;35m59.07%\u001b[0m\u001b[1;35m \u001b[0m│\u001b[1;35m \u001b[0m\u001b[1;35m66.91%\u001b[0m\u001b[1;35m \u001b[0m│\u001b[1;34m \u001b[0m\u001b[1;34m43.66%\u001b[0m\u001b[1;34m \u001b[0m│\u001b[1;34m \u001b[0m\u001b[1;34m60.7…\u001b[0m\u001b[1;34m \u001b[0m│\u001b[1;34m \u001b[0m\u001b[1;34m61.06%\u001b[0m\u001b[1;34m \u001b[0m│\u001b[1;32m \u001b[0m\u001b[1;32m50.4…\u001b[0m\u001b[1;32m \u001b[0m│\u001b[1;32m \u001b[0m\u001b[1;32m64.04%\u001b[0m\u001b[1;32m \u001b[0m│\u001b[1;32m \u001b[0m\u001b[1;32m70.5…\u001b[0m\u001b[1;32m \u001b[0m│\n",
       "└────────┴────────┴────────┴────────┴────────┴────────┴────────┴────────┴───────┴────────┴───────┴────────┴───────┘\n"
      ]
     },
     "metadata": {},
     "output_type": "display_data"
    }
   ],
   "source": [
    "from globox import COCOEvaluator\n",
    "\n",
    "evaluator = COCOEvaluator(ground_truths=annset_gt, predictions=annset_pr)\n",
    "evaluator.show_summary()"
   ]
  }
 ],
 "metadata": {
  "kernelspec": {
   "display_name": "venv",
   "language": "python",
   "name": "python3"
  },
  "language_info": {
   "codemirror_mode": {
    "name": "ipython",
    "version": 3
   },
   "file_extension": ".py",
   "mimetype": "text/x-python",
   "name": "python",
   "nbconvert_exporter": "python",
   "pygments_lexer": "ipython3",
   "version": "3.8.10"
  },
  "orig_nbformat": 4
 },
 "nbformat": 4,
 "nbformat_minor": 2
}
